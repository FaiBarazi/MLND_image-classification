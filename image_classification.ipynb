{
 "cells": [
  {
   "cell_type": "markdown",
   "metadata": {
    "collapsed": true
   },
   "source": [
    "# Image Classification\n",
    "In this project, you'll classify images from the [CIFAR-10 dataset](https://www.cs.toronto.edu/~kriz/cifar.html).  The dataset consists of airplanes, dogs, cats, and other objects. You'll preprocess the images, then train a convolutional neural network on all the samples. The images need to be normalized and the labels need to be one-hot encoded.  You'll get to apply what you learned and build a convolutional, max pooling, dropout, and fully connected layers.  At the end, you'll get to see your neural network's predictions on the sample images.\n",
    "## Get the Data\n",
    "Run the following cell to download the [CIFAR-10 dataset for python](https://www.cs.toronto.edu/~kriz/cifar-10-python.tar.gz)."
   ]
  },
  {
   "cell_type": "code",
   "execution_count": 1,
   "metadata": {
    "collapsed": false
   },
   "outputs": [
    {
     "name": "stdout",
     "output_type": "stream",
     "text": [
      "All files found!\n"
     ]
    }
   ],
   "source": [
    "\"\"\"\n",
    "DON'T MODIFY ANYTHING IN THIS CELL THAT IS BELOW THIS LINE\n",
    "\"\"\"\n",
    "from urllib.request import urlretrieve\n",
    "from os.path import isfile, isdir\n",
    "from tqdm import tqdm\n",
    "import problem_unittests as tests\n",
    "import tarfile\n",
    "\n",
    "cifar10_dataset_folder_path = 'cifar-10-batches-py'\n",
    "\n",
    "class DLProgress(tqdm):\n",
    "    last_block = 0\n",
    "\n",
    "    def hook(self, block_num=1, block_size=1, total_size=None):\n",
    "        self.total = total_size\n",
    "        self.update((block_num - self.last_block) * block_size)\n",
    "        self.last_block = block_num\n",
    "\n",
    "if not isfile('cifar-10-python.tar.gz'):\n",
    "    with DLProgress(unit='B', unit_scale=True, miniters=1, desc='CIFAR-10 Dataset') as pbar:\n",
    "        urlretrieve(\n",
    "            'https://www.cs.toronto.edu/~kriz/cifar-10-python.tar.gz',\n",
    "            'cifar-10-python.tar.gz',\n",
    "            pbar.hook)\n",
    "\n",
    "if not isdir(cifar10_dataset_folder_path):\n",
    "    with tarfile.open('cifar-10-python.tar.gz') as tar:\n",
    "        tar.extractall()\n",
    "        tar.close()\n",
    "\n",
    "\n",
    "tests.test_folder_path(cifar10_dataset_folder_path)"
   ]
  },
  {
   "cell_type": "markdown",
   "metadata": {},
   "source": [
    "## Explore the Data\n",
    "The dataset is broken into batches to prevent your machine from running out of memory.  The CIFAR-10 dataset consists of 5 batches, named `data_batch_1`, `data_batch_2`, etc.. Each batch contains the labels and images that are one of the following:\n",
    "* airplane\n",
    "* automobile\n",
    "* bird\n",
    "* cat\n",
    "* deer\n",
    "* dog\n",
    "* frog\n",
    "* horse\n",
    "* ship\n",
    "* truck\n",
    "\n",
    "Understanding a dataset is part of making predictions on the data.  Play around with the code cell below by changing the `batch_id` and `sample_id`. The `batch_id` is the id for a batch (1-5). The `sample_id` is the id for a image and label pair in the batch.\n",
    "\n",
    "Ask yourself \"What are all possible labels?\", \"What is the range of values for the image data?\", \"Are the labels in order or random?\".  Answers to questions like these will help you preprocess the data and end up with better predictions."
   ]
  },
  {
   "cell_type": "code",
   "execution_count": 2,
   "metadata": {
    "collapsed": false
   },
   "outputs": [
    {
     "name": "stdout",
     "output_type": "stream",
     "text": [
      "\n",
      "Stats of batch 3:\n",
      "Samples: 10000\n",
      "Label Counts: {0: 994, 1: 1042, 2: 965, 3: 997, 4: 990, 5: 1029, 6: 978, 7: 1015, 8: 961, 9: 1029}\n",
      "First 20 Labels: [8, 5, 0, 6, 9, 2, 8, 3, 6, 2, 7, 4, 6, 9, 0, 0, 7, 3, 7, 2]\n",
      "\n",
      "Example of Image 6:\n",
      "Image - Min Value: 30 Max Value: 242\n",
      "Image - Shape: (32, 32, 3)\n",
      "Label - Label Id: 8 Name: ship\n"
     ]
    },
    {
     "data": {
      "image/png": "[encoded data removed]",
      "text/plain": [
       "<matplotlib.figure.Figure at 0x116f188d0>"
      ]
     },
     "metadata": {
      "image/png": {
       "height": 250,
       "width": 253
      }
     },
     "output_type": "display_data"
    }
   ],
   "source": [
    "%matplotlib inline\n",
    "%config InlineBackend.figure_format = 'retina'\n",
    "\n",
    "import helper\n",
    "import numpy as np\n",
    "\n",
    "# Explore the dataset\n",
    "batch_id = 3\n",
    "sample_id = 6\n",
    "helper.display_stats(cifar10_dataset_folder_path, batch_id, sample_id)"
   ]
  },
  {
   "cell_type": "markdown",
   "metadata": {},
   "source": [
    "## Implement Preprocess Functions\n",
    "### Normalize\n",
    "In the cell below, implement the `normalize` function to take in image data, `x`, and return it as a normalized Numpy array. The values should be in the range of 0 to 1, inclusive.  The return object should be the same shape as `x`."
   ]
  },
  {
   "cell_type": "code",
   "execution_count": 68,
   "metadata": {
    "collapsed": false
   },
   "outputs": [
    {
     "name": "stdout",
     "output_type": "stream",
     "text": [
      "Tests Passed\n"
     ]
    }
   ],
   "source": [
    "def normalize(x):\n",
    "    \"\"\"\n",
    "    Normalize a list of sample image data in the range of 0 to 1\n",
    "    : x: List of image data.  The image shape is (32, 32, 3)\n",
    "    : return: Numpy array of normalize data\n",
    "    \"\"\"\n",
    "    x = np.array(x)\n",
    "    x = x/255.0\n",
    "    # TODO: Implement Function\n",
    "    return x\n",
    "\n",
    "\n",
    "\"\"\"\n",
    "DON'T MODIFY ANYTHING IN THIS CELL THAT IS BELOW THIS LINE\n",
    "\"\"\"\n",
    "tests.test_normalize(normalize)"
   ]
  },
  {
   "cell_type": "markdown",
   "metadata": {},
   "source": [
    "### One-hot encode\n",
    "Just like the previous code cell, you'll be implementing a function for preprocessing.  This time, you'll implement the `one_hot_encode` function. The input, `x`, are a list of labels.  Implement the function to return the list of labels as One-Hot encoded Numpy array.  The possible values for labels are 0 to 9. The one-hot encoding function should return the same encoding for each value between each call to `one_hot_encode`.  Make sure to save the map of encodings outside the function.\n",
    "\n",
    "**Hint:**\n",
    "\n",
    "Look into LabelBinarizer in the preprocessing module of sklearn."
   ]
  },
  {
   "cell_type": "code",
   "execution_count": 69,
   "metadata": {
    "collapsed": false
   },
   "outputs": [
    {
     "name": "stdout",
     "output_type": "stream",
     "text": [
      "Tests Passed\n"
     ]
    }
   ],
   "source": [
    "def one_hot_encode(x):\n",
    "    \"\"\"\n",
    "    One hot encode a list of sample labels. Return a one-hot encoded vector for each label.\n",
    "    : x: List of sample Labels\n",
    "    : return: Numpy array of one-hot encoded labels\n",
    "    \"\"\"\n",
    "    # TODO: Implement Function\n",
    "    from sklearn import preprocessing\n",
    "    lb = preprocessing.LabelBinarizer()\n",
    "    lb.fit(range(10))\n",
    "    result = lb.transform(x)\n",
    "    return result\n",
    "\n",
    "\n",
    "\"\"\"\n",
    "DON'T MODIFY ANYTHING IN THIS CELL THAT IS BELOW THIS LINE\n",
    "\"\"\"\n",
    "tests.test_one_hot_encode(one_hot_encode)"
   ]
  },
  {
   "cell_type": "markdown",
   "metadata": {},
   "source": [
    "### Randomize Data\n",
    "As you saw from exploring the data above, the order of the samples are randomized.  It doesn't hurt to randomize it again, but you don't need to for this dataset."
   ]
  },
  {
   "cell_type": "markdown",
   "metadata": {},
   "source": [
    "## Preprocess all the data and save it\n",
    "Running the code cell below will preprocess all the CIFAR-10 data and save it to file. The code below also uses 10% of the training data for validation."
   ]
  },
  {
   "cell_type": "code",
   "execution_count": 70,
   "metadata": {
    "collapsed": false
   },
   "outputs": [],
   "source": [
    "\"\"\"\n",
    "DON'T MODIFY ANYTHING IN THIS CELL\n",
    "\"\"\"\n",
    "# Preprocess Training, Validation, and Testing Data\n",
    "helper.preprocess_and_save_data(cifar10_dataset_folder_path, normalize, one_hot_encode)"
   ]
  },
  {
   "cell_type": "markdown",
   "metadata": {},
   "source": [
    "# Check Point\n",
    "This is your first checkpoint.  If you ever decide to come back to this notebook or have to restart the notebook, you can start from here.  The preprocessed data has been saved to disk."
   ]
  },
  {
   "cell_type": "code",
   "execution_count": 71,
   "metadata": {
    "collapsed": true
   },
   "outputs": [],
   "source": [
    "\"\"\"\n",
    "DON'T MODIFY ANYTHING IN THIS CELL\n",
    "\"\"\"\n",
    "import pickle\n",
    "import problem_unittests as tests\n",
    "import helper\n",
    "\n",
    "# Load the Preprocessed Validation data\n",
    "valid_features, valid_labels = pickle.load(open('preprocess_validation.p', mode='rb'))"
   ]
  },
  {
   "cell_type": "markdown",
   "metadata": {},
   "source": [
    "## Build the network\n",
    "For the neural network, you'll build each layer into a function.  Most of the code you've seen has been outside of functions. To test your code more thoroughly, we require that you put each layer in a function.  This allows us to give you better feedback and test for simple mistakes using our unittests before you submit your project.\n",
    "\n",
    ">**Note:** If you're finding it hard to dedicate enough time for this course each week, we've provided a small shortcut to this part of the project. In the next couple of problems, you'll have the option to use classes from the [TensorFlow Layers](https://www.tensorflow.org/api_docs/python/tf/layers) or [TensorFlow Layers (contrib)](https://www.tensorflow.org/api_guides/python/contrib.layers) packages to build each layer, except the layers you build in the \"Convolutional and Max Pooling Layer\" section.  TF Layers is similar to Keras's and TFLearn's abstraction to layers, so it's easy to pickup.\n",
    "\n",
    ">However, if you would like to get the most out of this course, try to solve all the problems _without_ using anything from the TF Layers packages. You **can** still use classes from other packages that happen to have the same name as ones you find in TF Layers! For example, instead of using the TF Layers version of the `conv2d` class, [tf.layers.conv2d](https://www.tensorflow.org/api_docs/python/tf/layers/conv2d), you would want to use the TF Neural Network version of `conv2d`, [tf.nn.conv2d](https://www.tensorflow.org/api_docs/python/tf/nn/conv2d). \n",
    "\n",
    "Let's begin!\n",
    "\n",
    "### Input\n",
    "The neural network needs to read the image data, one-hot encoded labels, and dropout keep probability. Implement the following functions\n",
    "* Implement `neural_net_image_input`\n",
    " * Return a [TF Placeholder](https://www.tensorflow.org/api_docs/python/tf/placeholder)\n",
    " * Set the shape using `image_shape` with batch size set to `None`.\n",
    " * Name the TensorFlow placeholder \"x\" using the TensorFlow `name` parameter in the [TF Placeholder](https://www.tensorflow.org/api_docs/python/tf/placeholder).\n",
    "* Implement `neural_net_label_input`\n",
    " * Return a [TF Placeholder](https://www.tensorflow.org/api_docs/python/tf/placeholder)\n",
    " * Set the shape using `n_classes` with batch size set to `None`.\n",
    " * Name the TensorFlow placeholder \"y\" using the TensorFlow `name` parameter in the [TF Placeholder](https://www.tensorflow.org/api_docs/python/tf/placeholder).\n",
    "* Implement `neural_net_keep_prob_input`\n",
    " * Return a [TF Placeholder](https://www.tensorflow.org/api_docs/python/tf/placeholder) for dropout keep probability.\n",
    " * Name the TensorFlow placeholder \"keep_prob\" using the TensorFlow `name` parameter in the [TF Placeholder](https://www.tensorflow.org/api_docs/python/tf/placeholder).\n",
    "\n",
    "These names will be used at the end of the project to load your saved model.\n",
    "\n",
    "Note: `None` for shapes in TensorFlow allow for a dynamic size."
   ]
  },
  {
   "cell_type": "code",
   "execution_count": 72,
   "metadata": {
    "collapsed": false
   },
   "outputs": [
    {
     "name": "stdout",
     "output_type": "stream",
     "text": [
      "Image Input Tests Passed.\n",
      "Label Input Tests Passed.\n",
      "Keep Prob Tests Passed.\n"
     ]
    }
   ],
   "source": [
    "import tensorflow as tf\n",
    "\n",
    "def neural_net_image_input(image_shape):\n",
    "    \"\"\"\n",
    "    Return a Tensor for a batch of image input\n",
    "    : image_shape: Shape of the images\n",
    "    : return: Tensor for image input.\n",
    "    \"\"\"\n",
    "    # TODO: Implement Function\n",
    "    shape = list(image_shape)\n",
    "    shape.insert(0,None)\n",
    "    shape = tuple(shape)\n",
    "    return tf.placeholder(dtype = tf.float32,shape = shape, name = 'x')\n",
    "    \n",
    "\n",
    "def neural_net_label_input(n_classes):\n",
    "    \"\"\"\n",
    "    Return a Tensor for a batch of label input\n",
    "    : n_classes: Number of classes\n",
    "    : return: Tensor for label input.\n",
    "    \"\"\"\n",
    "    # TODO: Implement Function\n",
    "    return tf.placeholder(dtype = tf.uint8,shape = (None,n_classes),name = 'y')\n",
    "\n",
    "\n",
    "def neural_net_keep_prob_input():\n",
    "    \"\"\"\n",
    "    Return a Tensor for keep probability\n",
    "    : return: Tensor for keep probability.\n",
    "    \"\"\"\n",
    "    # TODO: Implement Function\n",
    "    return tf.placeholder(dtype = tf.float32,name = 'keep_prob')\n",
    "\n",
    "\n",
    "\"\"\"\n",
    "DON'T MODIFY ANYTHING IN THIS CELL THAT IS BELOW THIS LINE\n",
    "\"\"\"\n",
    "tf.reset_default_graph()\n",
    "tests.test_nn_image_inputs(neural_net_image_input)\n",
    "tests.test_nn_label_inputs(neural_net_label_input)\n",
    "tests.test_nn_keep_prob_inputs(neural_net_keep_prob_input)"
   ]
  },
  {
   "cell_type": "markdown",
   "metadata": {},
   "source": [
    "### Convolution and Max Pooling Layer\n",
    "Convolution layers have a lot of success with images. For this code cell, you should implement the function `conv2d_maxpool` to apply convolution then max pooling:\n",
    "* Create the weight and bias using `conv_ksize`, `conv_num_outputs` and the shape of `x_tensor`.\n",
    "* Apply a convolution to `x_tensor` using weight and `conv_strides`.\n",
    " * We recommend you use same padding, but you're welcome to use any padding.\n",
    "* Add bias\n",
    "* Add a nonlinear activation to the convolution.\n",
    "* Apply Max Pooling using `pool_ksize` and `pool_strides`.\n",
    " * We recommend you use same padding, but you're welcome to use any padding.\n",
    "\n",
    "**Note:** You **can't** use [TensorFlow Layers](https://www.tensorflow.org/api_docs/python/tf/layers) or [TensorFlow Layers (contrib)](https://www.tensorflow.org/api_guides/python/contrib.layers) for **this** layer, but you can still use TensorFlow's [Neural Network](https://www.tensorflow.org/api_docs/python/tf/nn) package. You may still use the shortcut option for all the **other** layers.\n",
    "\n",
    "** Hint: **\n",
    "\n",
    "When unpacking values as an argument in Python, look into the [unpacking](https://docs.python.org/3/tutorial/controlflow.html#unpacking-argument-lists) operator. "
   ]
  },
  {
   "cell_type": "code",
   "execution_count": 73,
   "metadata": {
    "collapsed": false
   },
   "outputs": [
    {
     "name": "stdout",
     "output_type": "stream",
     "text": [
      "Tests Passed\n"
     ]
    }
   ],
   "source": [
    "def conv2d_maxpool(x_tensor, conv_num_outputs, conv_ksize, conv_strides, pool_ksize, pool_strides):\n",
    "    \"\"\"\n",
    "    Apply convolution then max pooling to x_tensor\n",
    "    :param x_tensor: TensorFlow Tensor\n",
    "    :param conv_num_outputs: Number of outputs for the convolutional layer\n",
    "    :param conv_ksize: kernal size 2-D Tuple for the convolutional layer\n",
    "    :param conv_strides: Stride 2-D Tuple for convolution\n",
    "    :param pool_ksize: kernal size 2-D Tuple for pool\n",
    "    :param pool_strides: Stride 2-D Tuple for pool\n",
    "    : return: A tensor that represents convolution and max pooling of x_tensor\n",
    "    \"\"\"\n",
    "    # TODO: Implement Function\n",
    "    ## Weights Shape =  [filter_height, filter_width, in_channels, out_channels]\n",
    "    channels = int(x_tensor.get_shape()[-1])\n",
    "    weight  = tf.Variable(tf.truncated_normal([*conv_ksize, channels, conv_num_outputs]))\n",
    "    bias = tf.Variable(tf.zeros(conv_num_outputs))\n",
    "    conv_layer = tf.nn.conv2d(x_tensor,weight,[1,*conv_strides,1],padding = 'SAME')\n",
    "    conv_layer = tf.nn.bias_add(conv_layer, bias)\n",
    "    conv_layer = tf.nn.relu(conv_layer)\n",
    "    conv_layer = tf.nn.max_pool(conv_layer,[1,*pool_ksize,1],[1,*pool_strides,1],padding='SAME')\n",
    "    return  conv_layer\n",
    "\n",
    "\n",
    "\"\"\"\n",
    "DON'T MODIFY ANYTHING IN THIS CELL THAT IS BELOW THIS LINE\n",
    "\"\"\"\n",
    "tests.test_con_pool(conv2d_maxpool)"
   ]
  },
  {
   "cell_type": "markdown",
   "metadata": {},
   "source": [
    "### Flatten Layer\n",
    "Implement the `flatten` function to change the dimension of `x_tensor` from a 4-D tensor to a 2-D tensor.  The output should be the shape (*Batch Size*, *Flattened Image Size*). Shortcut option: you can use classes from the [TensorFlow Layers](https://www.tensorflow.org/api_docs/python/tf/layers) or [TensorFlow Layers (contrib)](https://www.tensorflow.org/api_guides/python/contrib.layers) packages for this layer. For more of a challenge, only use other TensorFlow packages."
   ]
  },
  {
   "cell_type": "code",
   "execution_count": 74,
   "metadata": {
    "collapsed": false
   },
   "outputs": [
    {
     "name": "stdout",
     "output_type": "stream",
     "text": [
      "Tests Passed\n"
     ]
    }
   ],
   "source": [
    "import numpy as np\n",
    "def flatten(x_tensor):\n",
    "    \"\"\"\n",
    "    Flatten x_tensor to (Batch Size, Flattened Image Size)\n",
    "    : x_tensor: A tensor of size (Batch Size, ...), where ... are the image dimensions.\n",
    "    : return: A tensor of size (Batch Size, Flattened Image Size).\n",
    "    \"\"\"\n",
    "    # TODO: Implement Function\n",
    "    current_shape = x_tensor.get_shape().as_list()\n",
    "    flattened_dim = np.prod(np.array(current_shape[1:]))\n",
    "    \n",
    "    return tf.reshape(x_tensor,shape = [-1,flattened_dim])\n",
    "\n",
    "\n",
    "\"\"\"\n",
    "DON'T MODIFY ANYTHING IN THIS CELL THAT IS BELOW THIS LINE\n",
    "\"\"\"\n",
    "tests.test_flatten(flatten)"
   ]
  },
  {
   "cell_type": "markdown",
   "metadata": {},
   "source": [
    "### Fully-Connected Layer\n",
    "Implement the `fully_conn` function to apply a fully connected layer to `x_tensor` with the shape (*Batch Size*, *num_outputs*). Shortcut option: you can use classes from the [TensorFlow Layers](https://www.tensorflow.org/api_docs/python/tf/layers) or [TensorFlow Layers (contrib)](https://www.tensorflow.org/api_guides/python/contrib.layers) packages for this layer. For more of a challenge, only use other TensorFlow packages."
   ]
  },
  {
   "cell_type": "code",
   "execution_count": 75,
   "metadata": {
    "collapsed": false
   },
   "outputs": [
    {
     "name": "stdout",
     "output_type": "stream",
     "text": [
      "Tests Passed\n"
     ]
    }
   ],
   "source": [
    "def fully_conn(x_tensor, num_outputs):\n",
    "    \"\"\"\n",
    "    Apply a fully connected layer to x_tensor using weight and bias\n",
    "    : x_tensor: A 2-D tensor where the first dimension is batch size.\n",
    "    : num_outputs: The number of output that the new tensor should be.\n",
    "    : return: A 2-D tensor where the second dimension is num_outputs.\n",
    "    \"\"\"\n",
    "    # TODO: Implement Function\n",
    "\n",
    "    current_shape = x_tensor.get_shape().as_list()\n",
    "    weight = tf.Variable(tf.truncated_normal([current_shape[1],num_outputs]))\n",
    "    bias = tf.Variable(tf.zeros(num_outputs))\n",
    "    fc = tf.add(tf.matmul(x_tensor,weight),bias)\n",
    "    \n",
    "    return fc\n",
    "\n",
    "\"\"\"\n",
    "DON'T MODIFY ANYTHING IN THIS CELL THAT IS BELOW THIS LINE\n",
    "\"\"\"\n",
    "tests.test_fully_conn(fully_conn)"
   ]
  },
  {
   "cell_type": "markdown",
   "metadata": {},
   "source": [
    "### Output Layer\n",
    "Implement the `output` function to apply a fully connected layer to `x_tensor` with the shape (*Batch Size*, *num_outputs*). Shortcut option: you can use classes from the [TensorFlow Layers](https://www.tensorflow.org/api_docs/python/tf/layers) or [TensorFlow Layers (contrib)](https://www.tensorflow.org/api_guides/python/contrib.layers) packages for this layer. For more of a challenge, only use other TensorFlow packages.\n",
    "\n",
    "**Note:** Activation, softmax, or cross entropy should **not** be applied to this."
   ]
  },
  {
   "cell_type": "code",
   "execution_count": 76,
   "metadata": {
    "collapsed": false
   },
   "outputs": [
    {
     "name": "stdout",
     "output_type": "stream",
     "text": [
      "Tests Passed\n"
     ]
    }
   ],
   "source": [
    "def output(x_tensor, num_outputs):\n",
    "    \"\"\"\n",
    "    Apply a output layer to x_tensor using weight and bias\n",
    "    : x_tensor: A 2-D tensor where the first dimension is batch size.\n",
    "    : num_outputs: The number of output that the new tensor should be.\n",
    "    : return: A 2-D tensor where the second dimension is num_outputs.\n",
    "    \"\"\"\n",
    "    # TODO: Implement Function\n",
    "    current_shape = x_tensor.get_shape().as_list()\n",
    "    weight = tf.Variable(tf.truncated_normal([current_shape[1],num_outputs]))\n",
    "    bias = tf.Variable(tf.zeros(num_outputs))\n",
    "    output = tf.add(tf.matmul(x_tensor,weight),bias)\n",
    "    \n",
    "    return output\n",
    "\n",
    "\n",
    "\n",
    "\"\"\"\n",
    "DON'T MODIFY ANYTHING IN THIS CELL THAT IS BELOW THIS LINE\n",
    "\"\"\"\n",
    "tests.test_output(output)"
   ]
  },
  {
   "cell_type": "markdown",
   "metadata": {},
   "source": [
    "### Create Convolutional Model\n",
    "Implement the function `conv_net` to create a convolutional neural network model. The function takes in a batch of images, `x`, and outputs logits.  Use the layers you created above to create this model:\n",
    "\n",
    "* Apply 1, 2, or 3 Convolution and Max Pool layers\n",
    "* Apply a Flatten Layer\n",
    "* Apply 1, 2, or 3 Fully Connected Layers\n",
    "* Apply an Output Layer\n",
    "* Return the output\n",
    "* Apply [TensorFlow's Dropout](https://www.tensorflow.org/api_docs/python/tf/nn/dropout) to one or more layers in the model using `keep_prob`. "
   ]
  },
  {
   "cell_type": "code",
   "execution_count": 121,
   "metadata": {
    "collapsed": false
   },
   "outputs": [
    {
     "name": "stdout",
     "output_type": "stream",
     "text": [
      "Neural Network Built!\n"
     ]
    }
   ],
   "source": [
    "def conv_net(x, keep_prob):\n",
    "    \"\"\"\n",
    "    Create a convolutional neural network model\n",
    "    : x: Placeholder tensor that holds image data.\n",
    "    : keep_prob: Placeholder tensor that hold dropout keep probability.\n",
    "    : return: Tensor that represents logits\n",
    "    \"\"\"\n",
    "    # TODO: Apply 1, 2, or 3 Convolution and Max Pool layers\n",
    "    #    Play around with different number of outputs, kernel size and stride\n",
    "    # Function Definition from Above:\n",
    "    conv1 = conv2d_maxpool(x_tensor = x, conv_num_outputs = 64, conv_ksize =(3,3), conv_strides=(1,1),\n",
    "                            pool_ksize = (2,2), pool_strides =(2,2))\n",
    "    conv2 = conv2d_maxpool(x_tensor = conv1, conv_num_outputs = 128 , conv_ksize =(3,3), conv_strides=(1,1),\n",
    "                           pool_ksize = (2,2), pool_strides =(2,2))\n",
    "    #conv3 = conv2d_maxpool(x_tensor = conv2, conv_num_outputs = 128, conv_ksize =(3,3), conv_strides=(1,1),\n",
    "                            #pool_ksize = (2,2), pool_strides =(2,2))\n",
    "    \n",
    "    \n",
    "\n",
    "    # TODO: Apply a Flatten Layer\n",
    "    # Function Definition from Above:\n",
    "    flat_conv = flatten(conv2)\n",
    "    \n",
    "\n",
    "    # TODO: Apply 1, 2, or 3 Fully Connected Layers\n",
    "    #    Play around with different number of outputs\n",
    "    # Function Definition from Above:\n",
    "    con_layer = fully_conn(x_tensor = flat_conv, num_outputs = 10000)  \n",
    "    con_layer = tf.nn.relu(con_layer)\n",
    "    #con_layer = fully_conn(x_tensor = flat_conv, num_outputs = 3000)  \n",
    "    #con_layer = tf.nn.relu(con_layer)\n",
    "    con_layer = tf.nn.dropout(con_layer,keep_prob)\n",
    "    \n",
    "    \n",
    "    \n",
    "    # TODO: Apply an Output Layer\n",
    "    #    Set this to the number of classes\n",
    "    # Function Definition from Above:\n",
    "    conv_out = output(x_tensor = con_layer, num_outputs = 10)\n",
    "    \n",
    "    \n",
    "    # TODO: return output\n",
    "    return conv_out\n",
    "\n",
    "\n",
    "\"\"\"\n",
    "DON'T MODIFY ANYTHING IN THIS CELL THAT IS BELOW THIS LINE\n",
    "\"\"\"\n",
    "\n",
    "##############################\n",
    "## Build the Neural Network ##\n",
    "##############################\n",
    "\n",
    "# Remove previous weights, bias, inputs, etc..\n",
    "tf.reset_default_graph()\n",
    "\n",
    "# Inputs\n",
    "x = neural_net_image_input((32, 32, 3))\n",
    "y = neural_net_label_input(10)\n",
    "keep_prob = neural_net_keep_prob_input()\n",
    "\n",
    "# Model\n",
    "logits = conv_net(x, keep_prob)\n",
    "\n",
    "# Name logits Tensor, so that is can be loaded from disk after training\n",
    "logits = tf.identity(logits, name='logits')\n",
    "\n",
    "# Loss and Optimizer\n",
    "cost = tf.reduce_mean(tf.nn.softmax_cross_entropy_with_logits(logits=logits, labels=y))\n",
    "optimizer = tf.train.AdamOptimizer().minimize(cost)\n",
    "\n",
    "# Accuracy\n",
    "correct_pred = tf.equal(tf.argmax(logits, 1), tf.argmax(y, 1))\n",
    "accuracy = tf.reduce_mean(tf.cast(correct_pred, tf.float32), name='accuracy')\n",
    "\n",
    "tests.test_conv_net(conv_net)"
   ]
  },
  {
   "cell_type": "markdown",
   "metadata": {},
   "source": [
    "## Train the Neural Network\n",
    "### Single Optimization\n",
    "Implement the function `train_neural_network` to do a single optimization.  The optimization should use `optimizer` to optimize in `session` with a `feed_dict` of the following:\n",
    "* `x` for image input\n",
    "* `y` for labels\n",
    "* `keep_prob` for keep probability for dropout\n",
    "\n",
    "This function will be called for each batch, so `tf.global_variables_initializer()` has already been called.\n",
    "\n",
    "Note: Nothing needs to be returned. This function is only optimizing the neural network."
   ]
  },
  {
   "cell_type": "code",
   "execution_count": 122,
   "metadata": {
    "collapsed": false
   },
   "outputs": [
    {
     "name": "stdout",
     "output_type": "stream",
     "text": [
      "Tests Passed\n"
     ]
    }
   ],
   "source": [
    "def train_neural_network(session, optimizer, keep_probability, feature_batch, label_batch):\n",
    "    \"\"\"\n",
    "    Optimize the session on a batch of images and labels\n",
    "    : session: Current TensorFlow session\n",
    "    : optimizer: TensorFlow optimizer function\n",
    "    : keep_probability: keep probability\n",
    "    : feature_batch: Batch of Numpy image data\n",
    "    : label_batch: Batch of Numpy label data\n",
    "    \"\"\"\n",
    "    # TODO: Implement Function\n",
    "    session.run(optimizer,feed_dict={x:feature_batch,y:label_batch,keep_prob:keep_probability})\n",
    "        \n",
    "\n",
    "\n",
    "\"\"\"\n",
    "DON'T MODIFY ANYTHING IN THIS CELL THAT IS BELOW THIS LINE\n",
    "\"\"\"\n",
    "tests.test_train_nn(train_neural_network)"
   ]
  },
  {
   "cell_type": "markdown",
   "metadata": {},
   "source": [
    "### Show Stats\n",
    "Implement the function `print_stats` to print loss and validation accuracy.  Use the global variables `valid_features` and `valid_labels` to calculate validation accuracy.  Use a keep probability of `1.0` to calculate the loss and validation accuracy."
   ]
  },
  {
   "cell_type": "code",
   "execution_count": 123,
   "metadata": {
    "collapsed": false
   },
   "outputs": [],
   "source": [
    "def print_stats(session, feature_batch, label_batch, cost, accuracy):\n",
    "    \"\"\"\n",
    "    Print information about loss and validation accuracy\n",
    "    : session: Current TensorFlow session\n",
    "    : feature_batch: Batch of Numpy image data\n",
    "    : label_batch: Batch of Numpy label data\n",
    "    : cost: TensorFlow cost function\n",
    "    : accuracy: TensorFlow accuracy function\n",
    "    \"\"\"\n",
    "    # TODO: Implement Function\n",
    "    \n",
    "    loss = session.run(cost, feed_dict = {x:feature_batch,y:label_batch,keep_prob:1.0})\n",
    "    valid_accuracy = session.run(accuracy,feed_dict = {x:valid_features,y:valid_labels,keep_prob:1.0})\n",
    "    print (\"Loss is {0:.6f} and Validation Accuracty is {1:.6f}\".format(loss,valid_accuracy))\n",
    "    "
   ]
  },
  {
   "cell_type": "markdown",
   "metadata": {},
   "source": [
    "### Hyperparameters\n",
    "Tune the following parameters:\n",
    "* Set `epochs` to the number of iterations until the network stops learning or start overfitting\n",
    "* Set `batch_size` to the highest number that your machine has memory for.  Most people set them to common sizes of memory:\n",
    " * 64\n",
    " * 128\n",
    " * 256\n",
    " * ...\n",
    "* Set `keep_probability` to the probability of keeping a node using dropout"
   ]
  },
  {
   "cell_type": "code",
   "execution_count": 124,
   "metadata": {
    "collapsed": true
   },
   "outputs": [],
   "source": [
    "# TODO: Tune Parameters\n",
    "epochs = 80\n",
    "batch_size = 256\n",
    "keep_probability = 0.90"
   ]
  },
  {
   "cell_type": "markdown",
   "metadata": {},
   "source": [
    "### Train on a Single CIFAR-10 Batch\n",
    "Instead of training the neural network on all the CIFAR-10 batches of data, let's use a single batch. This should save time while you iterate on the model to get a better accuracy.  Once the final validation accuracy is 50% or greater, run the model on all the data in the next section."
   ]
  },
  {
   "cell_type": "code",
   "execution_count": 125,
   "metadata": {
    "collapsed": false
   },
   "outputs": [
    {
     "name": "stdout",
     "output_type": "stream",
     "text": [
      "Checking the Training on a Single Batch...\n",
      "Epoch  1, CIFAR-10 Batch 1:  Loss is 34501.183594 and Validation Accuracty is 0.328400\n",
      "Epoch  2, CIFAR-10 Batch 1:  Loss is 13598.606445 and Validation Accuracty is 0.375200\n",
      "Epoch  3, CIFAR-10 Batch 1:  Loss is 7704.950195 and Validation Accuracty is 0.430000\n",
      "Epoch  4, CIFAR-10 Batch 1:  Loss is 6274.932617 and Validation Accuracty is 0.409000\n",
      "Epoch  5, CIFAR-10 Batch 1:  Loss is 2499.894043 and Validation Accuracty is 0.461600\n",
      "Epoch  6, CIFAR-10 Batch 1:  Loss is 778.408569 and Validation Accuracty is 0.440200\n",
      "Epoch  7, CIFAR-10 Batch 1:  Loss is 624.777283 and Validation Accuracty is 0.479800\n",
      "Epoch  8, CIFAR-10 Batch 1:  Loss is 16.865820 and Validation Accuracty is 0.482400\n",
      "Epoch  9, CIFAR-10 Batch 1:  Loss is 223.554886 and Validation Accuracty is 0.496400\n",
      "Epoch 10, CIFAR-10 Batch 1:  Loss is 98.463913 and Validation Accuracty is 0.495400\n",
      "Epoch 11, CIFAR-10 Batch 1:  Loss is 7.377783 and Validation Accuracty is 0.492800\n",
      "Epoch 12, CIFAR-10 Batch 1:  Loss is 0.000000 and Validation Accuracty is 0.510000\n",
      "Epoch 13, CIFAR-10 Batch 1:  Loss is 0.000000 and Validation Accuracty is 0.497200\n",
      "Epoch 14, CIFAR-10 Batch 1:  Loss is 0.000000 and Validation Accuracty is 0.498600\n",
      "Epoch 15, CIFAR-10 Batch 1:  Loss is 0.000000 and Validation Accuracty is 0.500000\n",
      "Epoch 16, CIFAR-10 Batch 1:  Loss is 0.000000 and Validation Accuracty is 0.510600\n",
      "Epoch 17, CIFAR-10 Batch 1:  Loss is 0.000000 and Validation Accuracty is 0.501800\n",
      "Epoch 18, CIFAR-10 Batch 1:  Loss is 0.000000 and Validation Accuracty is 0.517400\n",
      "Epoch 19, CIFAR-10 Batch 1:  Loss is 0.000000 and Validation Accuracty is 0.510400\n",
      "Epoch 20, CIFAR-10 Batch 1:  Loss is 0.000000 and Validation Accuracty is 0.498800\n",
      "Epoch 21, CIFAR-10 Batch 1:  Loss is 23.076904 and Validation Accuracty is 0.503200\n",
      "Epoch 22, CIFAR-10 Batch 1:  Loss is 0.000000 and Validation Accuracty is 0.504200\n",
      "Epoch 23, CIFAR-10 Batch 1:  Loss is 0.000000 and Validation Accuracty is 0.513000\n",
      "Epoch 24, CIFAR-10 Batch 1:  Loss is 0.000000 and Validation Accuracty is 0.516600\n",
      "Epoch 25, CIFAR-10 Batch 1:  Loss is 0.000000 and Validation Accuracty is 0.531600\n",
      "Epoch 26, CIFAR-10 Batch 1:  Loss is 0.000000 and Validation Accuracty is 0.517400\n",
      "Epoch 27, CIFAR-10 Batch 1:  Loss is 0.000000 and Validation Accuracty is 0.511400\n",
      "Epoch 28, CIFAR-10 Batch 1:  Loss is 0.000000 and Validation Accuracty is 0.498800\n",
      "Epoch 29, CIFAR-10 Batch 1:  Loss is 90.107910 and Validation Accuracty is 0.477800\n",
      "Epoch 30, CIFAR-10 Batch 1:  Loss is 0.000000 and Validation Accuracty is 0.498000\n",
      "Epoch 31, CIFAR-10 Batch 1:  Loss is 0.000000 and Validation Accuracty is 0.517800\n",
      "Epoch 32, CIFAR-10 Batch 1:  Loss is 0.000000 and Validation Accuracty is 0.526600\n",
      "Epoch 33, CIFAR-10 Batch 1:  Loss is 0.000000 and Validation Accuracty is 0.532800\n",
      "Epoch 34, CIFAR-10 Batch 1:  Loss is 0.000000 and Validation Accuracty is 0.535000\n",
      "Epoch 35, CIFAR-10 Batch 1:  Loss is 0.000000 and Validation Accuracty is 0.531800\n",
      "Epoch 36, CIFAR-10 Batch 1:  Loss is 0.000000 and Validation Accuracty is 0.531800\n",
      "Epoch 37, CIFAR-10 Batch 1:  Loss is 0.000000 and Validation Accuracty is 0.535000\n",
      "Epoch 38, CIFAR-10 Batch 1:  Loss is 0.000000 and Validation Accuracty is 0.541200\n",
      "Epoch 39, CIFAR-10 Batch 1:  Loss is 0.000000 and Validation Accuracty is 0.528400\n",
      "Epoch 40, CIFAR-10 Batch 1:  Loss is 0.000000 and Validation Accuracty is 0.534600\n",
      "Epoch 41, CIFAR-10 Batch 1:  Loss is 0.000000 and Validation Accuracty is 0.538600\n",
      "Epoch 42, CIFAR-10 Batch 1:  Loss is 0.000000 and Validation Accuracty is 0.539000\n",
      "Epoch 43, CIFAR-10 Batch 1:  Loss is 0.000000 and Validation Accuracty is 0.537800\n",
      "Epoch 44, CIFAR-10 Batch 1:  Loss is 0.000000 and Validation Accuracty is 0.536400\n",
      "Epoch 45, CIFAR-10 Batch 1:  Loss is 0.000000 and Validation Accuracty is 0.542600\n",
      "Epoch 46, CIFAR-10 Batch 1:  Loss is 0.000000 and Validation Accuracty is 0.548600\n",
      "Epoch 47, CIFAR-10 Batch 1:  Loss is 0.000000 and Validation Accuracty is 0.534200\n",
      "Epoch 48, CIFAR-10 Batch 1:  Loss is 0.000000 and Validation Accuracty is 0.543600\n",
      "Epoch 49, CIFAR-10 Batch 1:  Loss is 0.000000 and Validation Accuracty is 0.543400\n",
      "Epoch 50, CIFAR-10 Batch 1:  Loss is 0.000000 and Validation Accuracty is 0.540000\n",
      "Epoch 51, CIFAR-10 Batch 1:  Loss is 0.000000 and Validation Accuracty is 0.540600\n",
      "Epoch 52, CIFAR-10 Batch 1:  Loss is 0.000000 and Validation Accuracty is 0.542200\n",
      "Epoch 53, CIFAR-10 Batch 1:  Loss is 0.000000 and Validation Accuracty is 0.549200\n",
      "Epoch 54, CIFAR-10 Batch 1:  Loss is 0.000000 and Validation Accuracty is 0.545600\n",
      "Epoch 55, CIFAR-10 Batch 1:  Loss is 0.000000 and Validation Accuracty is 0.534800\n",
      "Epoch 56, CIFAR-10 Batch 1:  Loss is 0.000000 and Validation Accuracty is 0.541400\n",
      "Epoch 57, CIFAR-10 Batch 1:  Loss is 0.000000 and Validation Accuracty is 0.550200\n",
      "Epoch 58, CIFAR-10 Batch 1:  Loss is 0.000000 and Validation Accuracty is 0.537800\n",
      "Epoch 59, CIFAR-10 Batch 1:  Loss is 0.000000 and Validation Accuracty is 0.546400\n",
      "Epoch 60, CIFAR-10 Batch 1:  Loss is 0.000000 and Validation Accuracty is 0.547800\n",
      "Epoch 61, CIFAR-10 Batch 1:  Loss is 0.000000 and Validation Accuracty is 0.543600\n",
      "Epoch 62, CIFAR-10 Batch 1:  Loss is 0.000000 and Validation Accuracty is 0.534600\n",
      "Epoch 63, CIFAR-10 Batch 1:  Loss is 0.000000 and Validation Accuracty is 0.532800\n",
      "Epoch 64, CIFAR-10 Batch 1:  Loss is 0.000000 and Validation Accuracty is 0.543800\n",
      "Epoch 65, CIFAR-10 Batch 1:  Loss is 0.000000 and Validation Accuracty is 0.532600\n",
      "Epoch 66, CIFAR-10 Batch 1:  Loss is 0.000000 and Validation Accuracty is 0.529400\n",
      "Epoch 67, CIFAR-10 Batch 1:  Loss is 0.000000 and Validation Accuracty is 0.539000\n",
      "Epoch 68, CIFAR-10 Batch 1:  Loss is 0.000000 and Validation Accuracty is 0.538000\n",
      "Epoch 69, CIFAR-10 Batch 1:  Loss is 0.000000 and Validation Accuracty is 0.544800\n",
      "Epoch 70, CIFAR-10 Batch 1:  Loss is 0.000000 and Validation Accuracty is 0.544600\n",
      "Epoch 71, CIFAR-10 Batch 1:  Loss is 0.000000 and Validation Accuracty is 0.546600\n",
      "Epoch 72, CIFAR-10 Batch 1:  Loss is 0.000000 and Validation Accuracty is 0.541400\n",
      "Epoch 73, CIFAR-10 Batch 1:  Loss is 0.000000 and Validation Accuracty is 0.543800\n",
      "Epoch 74, CIFAR-10 Batch 1:  Loss is 0.000000 and Validation Accuracty is 0.539400\n",
      "Epoch 75, CIFAR-10 Batch 1:  Loss is 0.000000 and Validation Accuracty is 0.541600\n",
      "Epoch 76, CIFAR-10 Batch 1:  Loss is 0.000000 and Validation Accuracty is 0.546800\n",
      "Epoch 77, CIFAR-10 Batch 1:  Loss is 0.000000 and Validation Accuracty is 0.536000\n",
      "Epoch 78, CIFAR-10 Batch 1:  Loss is 0.000000 and Validation Accuracty is 0.552400\n",
      "Epoch 79, CIFAR-10 Batch 1:  Loss is 0.000000 and Validation Accuracty is 0.539600\n",
      "Epoch 80, CIFAR-10 Batch 1:  Loss is 0.000000 and Validation Accuracty is 0.535800\n"
     ]
    }
   ],
   "source": [
    "\"\"\"\n",
    "DON'T MODIFY ANYTHING IN THIS CELL\n",
    "\"\"\"\n",
    "print('Checking the Training on a Single Batch...')\n",
    "with tf.Session() as sess:\n",
    "    # Initializing the variables\n",
    "    sess.run(tf.global_variables_initializer())\n",
    "    \n",
    "    # Training cycle\n",
    "    for epoch in range(epochs):\n",
    "        batch_i = 1\n",
    "        for batch_features, batch_labels in helper.load_preprocess_training_batch(batch_i, batch_size):\n",
    "            train_neural_network(sess, optimizer, keep_probability, batch_features, batch_labels)\n",
    "        print('Epoch {:>2}, CIFAR-10 Batch {}:  '.format(epoch + 1, batch_i), end='')\n",
    "        print_stats(sess, batch_features, batch_labels, cost, accuracy)"
   ]
  },
  {
   "cell_type": "markdown",
   "metadata": {},
   "source": [
    "### Fully Train the Model\n",
    "Now that you got a good accuracy with a single CIFAR-10 batch, try it with all five batches."
   ]
  },
  {
   "cell_type": "code",
   "execution_count": 126,
   "metadata": {
    "collapsed": false,
    "scrolled": false
   },
   "outputs": [
    {
     "name": "stdout",
     "output_type": "stream",
     "text": [
      "Training...\n",
      "Epoch  1, CIFAR-10 Batch 1:  Loss is 34362.781250 and Validation Accuracty is 0.315000\n",
      "Epoch  1, CIFAR-10 Batch 2:  Loss is 17673.527344 and Validation Accuracty is 0.381400\n",
      "Epoch  1, CIFAR-10 Batch 3:  Loss is 10323.303711 and Validation Accuracty is 0.415000\n",
      "Epoch  1, CIFAR-10 Batch 4:  Loss is 7119.311035 and Validation Accuracty is 0.442400\n",
      "Epoch  1, CIFAR-10 Batch 5:  Loss is 8711.119141 and Validation Accuracty is 0.465000\n",
      "Epoch  2, CIFAR-10 Batch 1:  Loss is 7500.082031 and Validation Accuracty is 0.441600\n",
      "Epoch  2, CIFAR-10 Batch 2:  Loss is 4797.826172 and Validation Accuracty is 0.489200\n",
      "Epoch  2, CIFAR-10 Batch 3:  Loss is 1423.371704 and Validation Accuracty is 0.498600\n",
      "Epoch  2, CIFAR-10 Batch 4:  Loss is 4643.914551 and Validation Accuracty is 0.490200\n",
      "Epoch  2, CIFAR-10 Batch 5:  Loss is 3274.819824 and Validation Accuracty is 0.498200\n",
      "Epoch  3, CIFAR-10 Batch 1:  Loss is 3692.094971 and Validation Accuracty is 0.500000\n",
      "Epoch  3, CIFAR-10 Batch 2:  Loss is 1763.493896 and Validation Accuracty is 0.493200\n",
      "Epoch  3, CIFAR-10 Batch 3:  Loss is 510.335754 and Validation Accuracty is 0.493400\n",
      "Epoch  3, CIFAR-10 Batch 4:  Loss is 1553.422119 and Validation Accuracty is 0.500400\n",
      "Epoch  3, CIFAR-10 Batch 5:  Loss is 1254.828369 and Validation Accuracty is 0.501600\n",
      "Epoch  4, CIFAR-10 Batch 1:  Loss is 2258.940186 and Validation Accuracty is 0.508800\n",
      "Epoch  4, CIFAR-10 Batch 2:  Loss is 436.655579 and Validation Accuracty is 0.492800\n",
      "Epoch  4, CIFAR-10 Batch 3:  Loss is 158.306641 and Validation Accuracty is 0.502000\n",
      "Epoch  4, CIFAR-10 Batch 4:  Loss is 227.849808 and Validation Accuracty is 0.507200\n",
      "Epoch  4, CIFAR-10 Batch 5:  Loss is 575.904907 and Validation Accuracty is 0.511600\n",
      "Epoch  5, CIFAR-10 Batch 1:  Loss is 747.333008 and Validation Accuracty is 0.520000\n",
      "Epoch  5, CIFAR-10 Batch 2:  Loss is 209.247513 and Validation Accuracty is 0.514000\n",
      "Epoch  5, CIFAR-10 Batch 3:  Loss is 234.513031 and Validation Accuracty is 0.516000\n",
      "Epoch  5, CIFAR-10 Batch 4:  Loss is 6.970557 and Validation Accuracty is 0.520400\n",
      "Epoch  5, CIFAR-10 Batch 5:  Loss is 99.344948 and Validation Accuracty is 0.516600\n",
      "Epoch  6, CIFAR-10 Batch 1:  Loss is 478.135345 and Validation Accuracty is 0.520000\n",
      "Epoch  6, CIFAR-10 Batch 2:  Loss is 81.504578 and Validation Accuracty is 0.520800\n",
      "Epoch  6, CIFAR-10 Batch 3:  Loss is 47.853737 and Validation Accuracty is 0.518800\n",
      "Epoch  6, CIFAR-10 Batch 4:  Loss is 20.596302 and Validation Accuracty is 0.519800\n",
      "Epoch  6, CIFAR-10 Batch 5:  Loss is 91.964607 and Validation Accuracty is 0.526200\n",
      "Epoch  7, CIFAR-10 Batch 1:  Loss is 193.770660 and Validation Accuracty is 0.534400\n",
      "Epoch  7, CIFAR-10 Batch 2:  Loss is 0.000000 and Validation Accuracty is 0.523200\n",
      "Epoch  7, CIFAR-10 Batch 3:  Loss is 0.000000 and Validation Accuracty is 0.528000\n",
      "Epoch  7, CIFAR-10 Batch 4:  Loss is 21.645863 and Validation Accuracty is 0.529000\n",
      "Epoch  7, CIFAR-10 Batch 5:  Loss is 85.323517 and Validation Accuracty is 0.537800\n",
      "Epoch  8, CIFAR-10 Batch 1:  Loss is 36.645287 and Validation Accuracty is 0.535000\n",
      "Epoch  8, CIFAR-10 Batch 2:  Loss is 53.322845 and Validation Accuracty is 0.532000\n",
      "Epoch  8, CIFAR-10 Batch 3:  Loss is 36.234962 and Validation Accuracty is 0.539400\n",
      "Epoch  8, CIFAR-10 Batch 4:  Loss is 0.000000 and Validation Accuracty is 0.533800\n",
      "Epoch  8, CIFAR-10 Batch 5:  Loss is 5.306634 and Validation Accuracty is 0.535400\n",
      "Epoch  9, CIFAR-10 Batch 1:  Loss is 35.044411 and Validation Accuracty is 0.537000\n",
      "Epoch  9, CIFAR-10 Batch 2:  Loss is 13.829175 and Validation Accuracty is 0.538400\n",
      "Epoch  9, CIFAR-10 Batch 3:  Loss is 0.000000 and Validation Accuracty is 0.541600\n",
      "Epoch  9, CIFAR-10 Batch 4:  Loss is 10.517176 and Validation Accuracty is 0.537600\n",
      "Epoch  9, CIFAR-10 Batch 5:  Loss is 12.927374 and Validation Accuracty is 0.543000\n",
      "Epoch 10, CIFAR-10 Batch 1:  Loss is 0.000000 and Validation Accuracty is 0.546200\n",
      "Epoch 10, CIFAR-10 Batch 2:  Loss is 51.273571 and Validation Accuracty is 0.534000\n",
      "Epoch 10, CIFAR-10 Batch 3:  Loss is 0.000000 and Validation Accuracty is 0.544600\n",
      "Epoch 10, CIFAR-10 Batch 4:  Loss is 0.000000 and Validation Accuracty is 0.537200\n",
      "Epoch 10, CIFAR-10 Batch 5:  Loss is 0.000000 and Validation Accuracty is 0.544600\n",
      "Epoch 11, CIFAR-10 Batch 1:  Loss is 0.000000 and Validation Accuracty is 0.544400\n",
      "Epoch 11, CIFAR-10 Batch 2:  Loss is 0.000000 and Validation Accuracty is 0.546200\n",
      "Epoch 11, CIFAR-10 Batch 3:  Loss is 0.000000 and Validation Accuracty is 0.548600\n",
      "Epoch 11, CIFAR-10 Batch 4:  Loss is 0.000000 and Validation Accuracty is 0.547000\n",
      "Epoch 11, CIFAR-10 Batch 5:  Loss is 0.000000 and Validation Accuracty is 0.548800\n",
      "Epoch 12, CIFAR-10 Batch 1:  Loss is 3.151611 and Validation Accuracty is 0.552000\n",
      "Epoch 12, CIFAR-10 Batch 2:  Loss is 0.000000 and Validation Accuracty is 0.551000\n",
      "Epoch 12, CIFAR-10 Batch 3:  Loss is 0.000000 and Validation Accuracty is 0.549800\n",
      "Epoch 12, CIFAR-10 Batch 4:  Loss is 0.000000 and Validation Accuracty is 0.552600\n",
      "Epoch 12, CIFAR-10 Batch 5:  Loss is 0.000000 and Validation Accuracty is 0.560000\n",
      "Epoch 13, CIFAR-10 Batch 1:  Loss is 0.000000 and Validation Accuracty is 0.559400\n",
      "Epoch 13, CIFAR-10 Batch 2:  Loss is 0.000000 and Validation Accuracty is 0.556600\n",
      "Epoch 13, CIFAR-10 Batch 3:  Loss is 0.000000 and Validation Accuracty is 0.560000\n",
      "Epoch 13, CIFAR-10 Batch 4:  Loss is 0.000000 and Validation Accuracty is 0.549800\n",
      "Epoch 13, CIFAR-10 Batch 5:  Loss is 0.000000 and Validation Accuracty is 0.559400\n",
      "Epoch 14, CIFAR-10 Batch 1:  Loss is 0.000000 and Validation Accuracty is 0.566200\n",
      "Epoch 14, CIFAR-10 Batch 2:  Loss is 0.000000 and Validation Accuracty is 0.549200\n",
      "Epoch 14, CIFAR-10 Batch 3:  Loss is 0.000000 and Validation Accuracty is 0.561400\n",
      "Epoch 14, CIFAR-10 Batch 4:  Loss is 0.000000 and Validation Accuracty is 0.552200\n",
      "Epoch 14, CIFAR-10 Batch 5:  Loss is 0.000000 and Validation Accuracty is 0.571800\n",
      "Epoch 15, CIFAR-10 Batch 1:  Loss is 0.000000 and Validation Accuracty is 0.555000\n",
      "Epoch 15, CIFAR-10 Batch 2:  Loss is 0.000000 and Validation Accuracty is 0.560800\n",
      "Epoch 15, CIFAR-10 Batch 3:  Loss is 0.000000 and Validation Accuracty is 0.563200\n",
      "Epoch 15, CIFAR-10 Batch 4:  Loss is 0.000000 and Validation Accuracty is 0.566600\n",
      "Epoch 15, CIFAR-10 Batch 5:  Loss is 0.000000 and Validation Accuracty is 0.570400\n",
      "Epoch 16, CIFAR-10 Batch 1:  Loss is 0.000000 and Validation Accuracty is 0.570400\n",
      "Epoch 16, CIFAR-10 Batch 2:  Loss is 0.000000 and Validation Accuracty is 0.561800\n",
      "Epoch 16, CIFAR-10 Batch 3:  Loss is 0.000000 and Validation Accuracty is 0.563400\n",
      "Epoch 16, CIFAR-10 Batch 4:  Loss is 0.000000 and Validation Accuracty is 0.562200\n",
      "Epoch 16, CIFAR-10 Batch 5:  Loss is 0.000000 and Validation Accuracty is 0.568400\n",
      "Epoch 17, CIFAR-10 Batch 1:  Loss is 0.000000 and Validation Accuracty is 0.577400\n",
      "Epoch 17, CIFAR-10 Batch 2:  Loss is 0.000000 and Validation Accuracty is 0.565800\n",
      "Epoch 17, CIFAR-10 Batch 3:  Loss is 0.000000 and Validation Accuracty is 0.574000\n",
      "Epoch 17, CIFAR-10 Batch 4:  Loss is 0.000000 and Validation Accuracty is 0.555000\n",
      "Epoch 17, CIFAR-10 Batch 5:  Loss is 0.000000 and Validation Accuracty is 0.571800\n",
      "Epoch 18, CIFAR-10 Batch 1:  Loss is 0.000000 and Validation Accuracty is 0.579200\n",
      "Epoch 18, CIFAR-10 Batch 2:  Loss is 0.000000 and Validation Accuracty is 0.560200\n",
      "Epoch 18, CIFAR-10 Batch 3:  Loss is 0.000000 and Validation Accuracty is 0.575400\n",
      "Epoch 18, CIFAR-10 Batch 4:  Loss is 0.000000 and Validation Accuracty is 0.569000\n",
      "Epoch 18, CIFAR-10 Batch 5:  Loss is 0.000000 and Validation Accuracty is 0.575400\n",
      "Epoch 19, CIFAR-10 Batch 1:  Loss is 0.000000 and Validation Accuracty is 0.582200\n",
      "Epoch 19, CIFAR-10 Batch 2:  Loss is 0.000000 and Validation Accuracty is 0.570800\n",
      "Epoch 19, CIFAR-10 Batch 3:  Loss is 8.218738 and Validation Accuracty is 0.571600\n",
      "Epoch 19, CIFAR-10 Batch 4:  Loss is 0.000000 and Validation Accuracty is 0.576000\n",
      "Epoch 19, CIFAR-10 Batch 5:  Loss is 0.000000 and Validation Accuracty is 0.571200\n",
      "Epoch 20, CIFAR-10 Batch 1:  Loss is 0.000000 and Validation Accuracty is 0.579200\n",
      "Epoch 20, CIFAR-10 Batch 2:  Loss is 0.000000 and Validation Accuracty is 0.573000\n",
      "Epoch 20, CIFAR-10 Batch 3:  Loss is 0.000000 and Validation Accuracty is 0.575600\n",
      "Epoch 20, CIFAR-10 Batch 4:  Loss is 0.000000 and Validation Accuracty is 0.579000\n",
      "Epoch 20, CIFAR-10 Batch 5:  Loss is 0.000000 and Validation Accuracty is 0.572800\n",
      "Epoch 21, CIFAR-10 Batch 1:  Loss is 0.000000 and Validation Accuracty is 0.579600\n",
      "Epoch 21, CIFAR-10 Batch 2:  Loss is 0.000000 and Validation Accuracty is 0.570200\n",
      "Epoch 21, CIFAR-10 Batch 3:  Loss is 0.000000 and Validation Accuracty is 0.574800\n",
      "Epoch 21, CIFAR-10 Batch 4:  Loss is 0.000000 and Validation Accuracty is 0.575400\n",
      "Epoch 21, CIFAR-10 Batch 5:  Loss is 0.000000 and Validation Accuracty is 0.572200\n",
      "Epoch 22, CIFAR-10 Batch 1:  Loss is 0.000000 and Validation Accuracty is 0.582800\n",
      "Epoch 22, CIFAR-10 Batch 2:  Loss is 0.000000 and Validation Accuracty is 0.568800\n",
      "Epoch 22, CIFAR-10 Batch 3:  Loss is 0.000000 and Validation Accuracty is 0.583400\n",
      "Epoch 22, CIFAR-10 Batch 4:  Loss is 0.000000 and Validation Accuracty is 0.574000\n",
      "Epoch 22, CIFAR-10 Batch 5:  Loss is 0.000000 and Validation Accuracty is 0.569000\n",
      "Epoch 23, CIFAR-10 Batch 1:  Loss is 0.000000 and Validation Accuracty is 0.576200\n",
      "Epoch 23, CIFAR-10 Batch 2:  Loss is 0.000000 and Validation Accuracty is 0.576600\n",
      "Epoch 23, CIFAR-10 Batch 3:  Loss is 0.000000 and Validation Accuracty is 0.582400\n",
      "Epoch 23, CIFAR-10 Batch 4:  Loss is 0.000000 and Validation Accuracty is 0.585000\n",
      "Epoch 23, CIFAR-10 Batch 5:  Loss is 0.000000 and Validation Accuracty is 0.580000\n",
      "Epoch 24, CIFAR-10 Batch 1:  Loss is 0.000000 and Validation Accuracty is 0.579600\n",
      "Epoch 24, CIFAR-10 Batch 2:  Loss is 0.000000 and Validation Accuracty is 0.582800\n",
      "Epoch 24, CIFAR-10 Batch 3:  Loss is 0.000000 and Validation Accuracty is 0.587200\n",
      "Epoch 24, CIFAR-10 Batch 4:  Loss is 0.000000 and Validation Accuracty is 0.581200\n",
      "Epoch 24, CIFAR-10 Batch 5:  Loss is 0.000000 and Validation Accuracty is 0.582400\n",
      "Epoch 25, CIFAR-10 Batch 1:  Loss is 0.000000 and Validation Accuracty is 0.580200\n",
      "Epoch 25, CIFAR-10 Batch 2:  Loss is 0.000000 and Validation Accuracty is 0.581200\n",
      "Epoch 25, CIFAR-10 Batch 3:  Loss is 0.000000 and Validation Accuracty is 0.587200\n",
      "Epoch 25, CIFAR-10 Batch 4:  Loss is 0.000000 and Validation Accuracty is 0.584800\n",
      "Epoch 25, CIFAR-10 Batch 5:  Loss is 0.000000 and Validation Accuracty is 0.581800\n",
      "Epoch 26, CIFAR-10 Batch 1:  Loss is 0.000000 and Validation Accuracty is 0.590000\n",
      "Epoch 26, CIFAR-10 Batch 2:  Loss is 0.000000 and Validation Accuracty is 0.576000\n",
      "Epoch 26, CIFAR-10 Batch 3:  Loss is 0.000000 and Validation Accuracty is 0.588200\n",
      "Epoch 26, CIFAR-10 Batch 4:  Loss is 0.000000 and Validation Accuracty is 0.590600\n",
      "Epoch 26, CIFAR-10 Batch 5:  Loss is 0.000000 and Validation Accuracty is 0.578000\n",
      "Epoch 27, CIFAR-10 Batch 1:  Loss is 0.000000 and Validation Accuracty is 0.590000\n",
      "Epoch 27, CIFAR-10 Batch 2:  Loss is 0.000000 and Validation Accuracty is 0.583600\n",
      "Epoch 27, CIFAR-10 Batch 3:  Loss is 0.000000 and Validation Accuracty is 0.582600\n",
      "Epoch 27, CIFAR-10 Batch 4:  Loss is 8.779737 and Validation Accuracty is 0.584600\n",
      "Epoch 27, CIFAR-10 Batch 5:  Loss is 0.000000 and Validation Accuracty is 0.580800\n",
      "Epoch 28, CIFAR-10 Batch 1:  Loss is 8.094238 and Validation Accuracty is 0.587000\n",
      "Epoch 28, CIFAR-10 Batch 2:  Loss is 0.000000 and Validation Accuracty is 0.582200\n",
      "Epoch 28, CIFAR-10 Batch 3:  Loss is 0.000000 and Validation Accuracty is 0.574000\n",
      "Epoch 28, CIFAR-10 Batch 4:  Loss is 0.000000 and Validation Accuracty is 0.579200\n",
      "Epoch 28, CIFAR-10 Batch 5:  Loss is 0.000000 and Validation Accuracty is 0.586800\n",
      "Epoch 29, CIFAR-10 Batch 1:  Loss is 0.000000 and Validation Accuracty is 0.586600\n",
      "Epoch 29, CIFAR-10 Batch 2:  Loss is 0.000000 and Validation Accuracty is 0.594000\n",
      "Epoch 29, CIFAR-10 Batch 3:  Loss is 0.000000 and Validation Accuracty is 0.584000\n",
      "Epoch 29, CIFAR-10 Batch 4:  Loss is 0.000000 and Validation Accuracty is 0.585000\n",
      "Epoch 29, CIFAR-10 Batch 5:  Loss is 0.000000 and Validation Accuracty is 0.588400\n",
      "Epoch 30, CIFAR-10 Batch 1:  Loss is 0.000000 and Validation Accuracty is 0.588000\n",
      "Epoch 30, CIFAR-10 Batch 2:  Loss is 0.000000 and Validation Accuracty is 0.584400\n",
      "Epoch 30, CIFAR-10 Batch 3:  Loss is 0.000000 and Validation Accuracty is 0.587400\n",
      "Epoch 30, CIFAR-10 Batch 4:  Loss is 0.000000 and Validation Accuracty is 0.581800\n",
      "Epoch 30, CIFAR-10 Batch 5:  Loss is 18.035633 and Validation Accuracty is 0.580600\n",
      "Epoch 31, CIFAR-10 Batch 1:  Loss is 0.000000 and Validation Accuracty is 0.599200\n",
      "Epoch 31, CIFAR-10 Batch 2:  Loss is 0.000000 and Validation Accuracty is 0.580400\n",
      "Epoch 31, CIFAR-10 Batch 3:  Loss is 0.000000 and Validation Accuracty is 0.573200\n",
      "Epoch 31, CIFAR-10 Batch 4:  Loss is 0.000000 and Validation Accuracty is 0.581800\n",
      "Epoch 31, CIFAR-10 Batch 5:  Loss is 0.000000 and Validation Accuracty is 0.590400\n",
      "Epoch 32, CIFAR-10 Batch 1:  Loss is 0.000000 and Validation Accuracty is 0.591000\n",
      "Epoch 32, CIFAR-10 Batch 2:  Loss is 0.000000 and Validation Accuracty is 0.576800\n",
      "Epoch 32, CIFAR-10 Batch 3:  Loss is 0.000000 and Validation Accuracty is 0.583000\n",
      "Epoch 32, CIFAR-10 Batch 4:  Loss is 0.000000 and Validation Accuracty is 0.583200\n",
      "Epoch 32, CIFAR-10 Batch 5:  Loss is 0.000000 and Validation Accuracty is 0.586800\n",
      "Epoch 33, CIFAR-10 Batch 1:  Loss is 0.000000 and Validation Accuracty is 0.588000\n",
      "Epoch 33, CIFAR-10 Batch 2:  Loss is 0.000000 and Validation Accuracty is 0.578400\n",
      "Epoch 33, CIFAR-10 Batch 3:  Loss is 0.000000 and Validation Accuracty is 0.589200\n",
      "Epoch 33, CIFAR-10 Batch 4:  Loss is 0.000000 and Validation Accuracty is 0.583600\n",
      "Epoch 33, CIFAR-10 Batch 5:  Loss is 0.000000 and Validation Accuracty is 0.583400\n",
      "Epoch 34, CIFAR-10 Batch 1:  Loss is 0.000000 and Validation Accuracty is 0.589600\n",
      "Epoch 34, CIFAR-10 Batch 2:  Loss is 0.000000 and Validation Accuracty is 0.587400\n",
      "Epoch 34, CIFAR-10 Batch 3:  Loss is 0.000000 and Validation Accuracty is 0.591000\n",
      "Epoch 34, CIFAR-10 Batch 4:  Loss is 0.000000 and Validation Accuracty is 0.594600\n",
      "Epoch 34, CIFAR-10 Batch 5:  Loss is 0.000000 and Validation Accuracty is 0.591200\n",
      "Epoch 35, CIFAR-10 Batch 1:  Loss is 0.000000 and Validation Accuracty is 0.589000\n",
      "Epoch 35, CIFAR-10 Batch 2:  Loss is 0.000000 and Validation Accuracty is 0.587800\n",
      "Epoch 35, CIFAR-10 Batch 3:  Loss is 0.000000 and Validation Accuracty is 0.583200\n",
      "Epoch 35, CIFAR-10 Batch 4:  Loss is 0.000000 and Validation Accuracty is 0.586200\n",
      "Epoch 35, CIFAR-10 Batch 5:  Loss is 0.000000 and Validation Accuracty is 0.591200\n",
      "Epoch 36, CIFAR-10 Batch 1:  Loss is 0.000000 and Validation Accuracty is 0.598400\n",
      "Epoch 36, CIFAR-10 Batch 2:  Loss is 0.000000 and Validation Accuracty is 0.586200\n",
      "Epoch 36, CIFAR-10 Batch 3:  Loss is 0.000000 and Validation Accuracty is 0.590000\n",
      "Epoch 36, CIFAR-10 Batch 4:  Loss is 0.000000 and Validation Accuracty is 0.582800\n",
      "Epoch 36, CIFAR-10 Batch 5:  Loss is 0.000000 and Validation Accuracty is 0.583400\n",
      "Epoch 37, CIFAR-10 Batch 1:  Loss is 0.000000 and Validation Accuracty is 0.588800\n",
      "Epoch 37, CIFAR-10 Batch 2:  Loss is 0.000000 and Validation Accuracty is 0.588600\n",
      "Epoch 37, CIFAR-10 Batch 3:  Loss is 0.000000 and Validation Accuracty is 0.582400\n",
      "Epoch 37, CIFAR-10 Batch 4:  Loss is 0.000000 and Validation Accuracty is 0.585800\n",
      "Epoch 37, CIFAR-10 Batch 5:  Loss is 0.000000 and Validation Accuracty is 0.591200\n",
      "Epoch 38, CIFAR-10 Batch 1:  Loss is 0.000000 and Validation Accuracty is 0.594600\n",
      "Epoch 38, CIFAR-10 Batch 2:  Loss is 0.000000 and Validation Accuracty is 0.590400\n",
      "Epoch 38, CIFAR-10 Batch 3:  Loss is 0.000000 and Validation Accuracty is 0.589200\n",
      "Epoch 38, CIFAR-10 Batch 4:  Loss is 0.000000 and Validation Accuracty is 0.590000\n",
      "Epoch 38, CIFAR-10 Batch 5:  Loss is 0.000000 and Validation Accuracty is 0.601600\n",
      "Epoch 39, CIFAR-10 Batch 1:  Loss is 0.000000 and Validation Accuracty is 0.604600\n",
      "Epoch 39, CIFAR-10 Batch 2:  Loss is 0.000000 and Validation Accuracty is 0.591400\n",
      "Epoch 39, CIFAR-10 Batch 3:  Loss is 0.000000 and Validation Accuracty is 0.597000\n",
      "Epoch 39, CIFAR-10 Batch 4:  Loss is 0.000000 and Validation Accuracty is 0.599400\n",
      "Epoch 39, CIFAR-10 Batch 5:  Loss is 0.000000 and Validation Accuracty is 0.601400\n",
      "Epoch 40, CIFAR-10 Batch 1:  Loss is 0.000000 and Validation Accuracty is 0.599400\n",
      "Epoch 40, CIFAR-10 Batch 2:  Loss is 0.000000 and Validation Accuracty is 0.586000\n",
      "Epoch 40, CIFAR-10 Batch 3:  Loss is 0.000000 and Validation Accuracty is 0.596000\n",
      "Epoch 40, CIFAR-10 Batch 4:  Loss is 0.000000 and Validation Accuracty is 0.590000\n",
      "Epoch 40, CIFAR-10 Batch 5:  Loss is 0.000000 and Validation Accuracty is 0.594200\n",
      "Epoch 41, CIFAR-10 Batch 1:  Loss is 0.000000 and Validation Accuracty is 0.590600\n",
      "Epoch 41, CIFAR-10 Batch 2:  Loss is 0.000000 and Validation Accuracty is 0.591800\n",
      "Epoch 41, CIFAR-10 Batch 3:  Loss is 0.000000 and Validation Accuracty is 0.582200\n",
      "Epoch 41, CIFAR-10 Batch 4:  Loss is 6.161645 and Validation Accuracty is 0.592600\n",
      "Epoch 41, CIFAR-10 Batch 5:  Loss is 0.000000 and Validation Accuracty is 0.591600\n",
      "Epoch 42, CIFAR-10 Batch 1:  Loss is 0.000000 and Validation Accuracty is 0.597800\n",
      "Epoch 42, CIFAR-10 Batch 2:  Loss is 0.000000 and Validation Accuracty is 0.598400\n",
      "Epoch 42, CIFAR-10 Batch 3:  Loss is 0.000000 and Validation Accuracty is 0.595400\n",
      "Epoch 42, CIFAR-10 Batch 4:  Loss is 0.000000 and Validation Accuracty is 0.592000\n",
      "Epoch 42, CIFAR-10 Batch 5:  Loss is 0.000000 and Validation Accuracty is 0.601800\n",
      "Epoch 43, CIFAR-10 Batch 1:  Loss is 0.000000 and Validation Accuracty is 0.601600\n",
      "Epoch 43, CIFAR-10 Batch 2:  Loss is 0.000000 and Validation Accuracty is 0.590800\n",
      "Epoch 43, CIFAR-10 Batch 3:  Loss is 0.000000 and Validation Accuracty is 0.599000\n",
      "Epoch 43, CIFAR-10 Batch 4:  Loss is 0.000000 and Validation Accuracty is 0.595000\n",
      "Epoch 43, CIFAR-10 Batch 5:  Loss is 0.000000 and Validation Accuracty is 0.610400\n",
      "Epoch 44, CIFAR-10 Batch 1:  Loss is 0.000000 and Validation Accuracty is 0.586800\n",
      "Epoch 44, CIFAR-10 Batch 2:  Loss is 0.000000 and Validation Accuracty is 0.597000\n",
      "Epoch 44, CIFAR-10 Batch 3:  Loss is 0.000000 and Validation Accuracty is 0.601200\n",
      "Epoch 44, CIFAR-10 Batch 4:  Loss is 0.000000 and Validation Accuracty is 0.588200\n",
      "Epoch 44, CIFAR-10 Batch 5:  Loss is 0.000000 and Validation Accuracty is 0.598800\n",
      "Epoch 45, CIFAR-10 Batch 1:  Loss is 0.000000 and Validation Accuracty is 0.602600\n",
      "Epoch 45, CIFAR-10 Batch 2:  Loss is 0.000000 and Validation Accuracty is 0.595800\n",
      "Epoch 45, CIFAR-10 Batch 3:  Loss is 0.000000 and Validation Accuracty is 0.599800\n",
      "Epoch 45, CIFAR-10 Batch 4:  Loss is 11.066724 and Validation Accuracty is 0.583400\n",
      "Epoch 45, CIFAR-10 Batch 5:  Loss is 0.000000 and Validation Accuracty is 0.600400\n",
      "Epoch 46, CIFAR-10 Batch 1:  Loss is 0.000000 and Validation Accuracty is 0.606800\n",
      "Epoch 46, CIFAR-10 Batch 2:  Loss is 0.000000 and Validation Accuracty is 0.599800\n",
      "Epoch 46, CIFAR-10 Batch 3:  Loss is 0.000000 and Validation Accuracty is 0.599400\n",
      "Epoch 46, CIFAR-10 Batch 4:  Loss is 0.000000 and Validation Accuracty is 0.592800\n",
      "Epoch 46, CIFAR-10 Batch 5:  Loss is 0.000000 and Validation Accuracty is 0.604200\n",
      "Epoch 47, CIFAR-10 Batch 1:  Loss is 0.000000 and Validation Accuracty is 0.608400\n",
      "Epoch 47, CIFAR-10 Batch 2:  Loss is 0.000000 and Validation Accuracty is 0.598000\n",
      "Epoch 47, CIFAR-10 Batch 3:  Loss is 0.000000 and Validation Accuracty is 0.600000\n",
      "Epoch 47, CIFAR-10 Batch 4:  Loss is 0.000000 and Validation Accuracty is 0.602200\n",
      "Epoch 47, CIFAR-10 Batch 5:  Loss is 0.000000 and Validation Accuracty is 0.609400\n",
      "Epoch 48, CIFAR-10 Batch 1:  Loss is 0.000000 and Validation Accuracty is 0.610200\n",
      "Epoch 48, CIFAR-10 Batch 2:  Loss is 0.000000 and Validation Accuracty is 0.602800\n",
      "Epoch 48, CIFAR-10 Batch 3:  Loss is 0.000000 and Validation Accuracty is 0.599000\n",
      "Epoch 48, CIFAR-10 Batch 4:  Loss is 0.000000 and Validation Accuracty is 0.605200\n",
      "Epoch 48, CIFAR-10 Batch 5:  Loss is 0.000000 and Validation Accuracty is 0.610200\n",
      "Epoch 49, CIFAR-10 Batch 1:  Loss is 0.000000 and Validation Accuracty is 0.611800\n",
      "Epoch 49, CIFAR-10 Batch 2:  Loss is 0.000000 and Validation Accuracty is 0.611200\n",
      "Epoch 49, CIFAR-10 Batch 3:  Loss is 0.000000 and Validation Accuracty is 0.611600\n",
      "Epoch 49, CIFAR-10 Batch 4:  Loss is 2.617542 and Validation Accuracty is 0.597400\n",
      "Epoch 49, CIFAR-10 Batch 5:  Loss is 0.000000 and Validation Accuracty is 0.600600\n",
      "Epoch 50, CIFAR-10 Batch 1:  Loss is 0.000000 and Validation Accuracty is 0.605600\n",
      "Epoch 50, CIFAR-10 Batch 2:  Loss is 0.000000 and Validation Accuracty is 0.602200\n",
      "Epoch 50, CIFAR-10 Batch 3:  Loss is 0.000000 and Validation Accuracty is 0.602400\n",
      "Epoch 50, CIFAR-10 Batch 4:  Loss is 0.000000 and Validation Accuracty is 0.600600\n",
      "Epoch 50, CIFAR-10 Batch 5:  Loss is 0.000000 and Validation Accuracty is 0.594400\n",
      "Epoch 51, CIFAR-10 Batch 1:  Loss is 0.000000 and Validation Accuracty is 0.606200\n",
      "Epoch 51, CIFAR-10 Batch 2:  Loss is 0.000000 and Validation Accuracty is 0.610400\n",
      "Epoch 51, CIFAR-10 Batch 3:  Loss is 0.000000 and Validation Accuracty is 0.599800\n",
      "Epoch 51, CIFAR-10 Batch 4:  Loss is 0.000000 and Validation Accuracty is 0.609000\n",
      "Epoch 51, CIFAR-10 Batch 5:  Loss is 0.000000 and Validation Accuracty is 0.610200\n",
      "Epoch 52, CIFAR-10 Batch 1:  Loss is 0.000000 and Validation Accuracty is 0.610600\n",
      "Epoch 52, CIFAR-10 Batch 2:  Loss is 0.000000 and Validation Accuracty is 0.610800\n",
      "Epoch 52, CIFAR-10 Batch 3:  Loss is 0.000000 and Validation Accuracty is 0.604600\n",
      "Epoch 52, CIFAR-10 Batch 4:  Loss is 0.000000 and Validation Accuracty is 0.590000\n",
      "Epoch 52, CIFAR-10 Batch 5:  Loss is 0.000000 and Validation Accuracty is 0.602600\n",
      "Epoch 53, CIFAR-10 Batch 1:  Loss is 0.000000 and Validation Accuracty is 0.602200\n",
      "Epoch 53, CIFAR-10 Batch 2:  Loss is 0.000000 and Validation Accuracty is 0.613400\n",
      "Epoch 53, CIFAR-10 Batch 3:  Loss is 0.000000 and Validation Accuracty is 0.605200\n",
      "Epoch 53, CIFAR-10 Batch 4:  Loss is 0.000000 and Validation Accuracty is 0.588400\n",
      "Epoch 53, CIFAR-10 Batch 5:  Loss is 0.000000 and Validation Accuracty is 0.606800\n",
      "Epoch 54, CIFAR-10 Batch 1:  Loss is 0.000000 and Validation Accuracty is 0.602600\n",
      "Epoch 54, CIFAR-10 Batch 2:  Loss is 0.000000 and Validation Accuracty is 0.604400\n",
      "Epoch 54, CIFAR-10 Batch 3:  Loss is 0.000000 and Validation Accuracty is 0.597800\n",
      "Epoch 54, CIFAR-10 Batch 4:  Loss is 0.000000 and Validation Accuracty is 0.599400\n",
      "Epoch 54, CIFAR-10 Batch 5:  Loss is 0.000000 and Validation Accuracty is 0.594600\n",
      "Epoch 55, CIFAR-10 Batch 1:  Loss is 0.000000 and Validation Accuracty is 0.601400\n",
      "Epoch 55, CIFAR-10 Batch 2:  Loss is 0.000000 and Validation Accuracty is 0.597600\n",
      "Epoch 55, CIFAR-10 Batch 3:  Loss is 0.000000 and Validation Accuracty is 0.611800\n",
      "Epoch 55, CIFAR-10 Batch 4:  Loss is 0.000000 and Validation Accuracty is 0.607200\n",
      "Epoch 55, CIFAR-10 Batch 5:  Loss is 0.000000 and Validation Accuracty is 0.595400\n",
      "Epoch 56, CIFAR-10 Batch 1:  Loss is 0.000000 and Validation Accuracty is 0.605000\n",
      "Epoch 56, CIFAR-10 Batch 2:  Loss is 42.467541 and Validation Accuracty is 0.597200\n",
      "Epoch 56, CIFAR-10 Batch 3:  Loss is 0.000000 and Validation Accuracty is 0.607000\n",
      "Epoch 56, CIFAR-10 Batch 4:  Loss is 0.000000 and Validation Accuracty is 0.608400\n",
      "Epoch 56, CIFAR-10 Batch 5:  Loss is 0.000000 and Validation Accuracty is 0.597800\n",
      "Epoch 57, CIFAR-10 Batch 1:  Loss is 0.000000 and Validation Accuracty is 0.606600\n",
      "Epoch 57, CIFAR-10 Batch 2:  Loss is 0.000000 and Validation Accuracty is 0.604200\n",
      "Epoch 57, CIFAR-10 Batch 3:  Loss is 0.000000 and Validation Accuracty is 0.610000\n",
      "Epoch 57, CIFAR-10 Batch 4:  Loss is 0.000000 and Validation Accuracty is 0.602400\n",
      "Epoch 57, CIFAR-10 Batch 5:  Loss is 0.000000 and Validation Accuracty is 0.610000\n",
      "Epoch 58, CIFAR-10 Batch 1:  Loss is 0.000000 and Validation Accuracty is 0.604800\n",
      "Epoch 58, CIFAR-10 Batch 2:  Loss is 0.000000 and Validation Accuracty is 0.609200\n",
      "Epoch 58, CIFAR-10 Batch 3:  Loss is 0.000000 and Validation Accuracty is 0.611600\n",
      "Epoch 58, CIFAR-10 Batch 4:  Loss is 0.790967 and Validation Accuracty is 0.593400\n",
      "Epoch 58, CIFAR-10 Batch 5:  Loss is 0.000000 and Validation Accuracty is 0.606400\n",
      "Epoch 59, CIFAR-10 Batch 1:  Loss is 0.000000 and Validation Accuracty is 0.601400\n",
      "Epoch 59, CIFAR-10 Batch 2:  Loss is 0.000000 and Validation Accuracty is 0.599600\n",
      "Epoch 59, CIFAR-10 Batch 3:  Loss is 0.000000 and Validation Accuracty is 0.607800\n",
      "Epoch 59, CIFAR-10 Batch 4:  Loss is 0.000000 and Validation Accuracty is 0.596800\n",
      "Epoch 59, CIFAR-10 Batch 5:  Loss is 0.000000 and Validation Accuracty is 0.609400\n",
      "Epoch 60, CIFAR-10 Batch 1:  Loss is 0.000000 and Validation Accuracty is 0.602000\n",
      "Epoch 60, CIFAR-10 Batch 2:  Loss is 0.000000 and Validation Accuracty is 0.607200\n",
      "Epoch 60, CIFAR-10 Batch 3:  Loss is 0.000000 and Validation Accuracty is 0.614400\n",
      "Epoch 60, CIFAR-10 Batch 4:  Loss is 0.000000 and Validation Accuracty is 0.594400\n",
      "Epoch 60, CIFAR-10 Batch 5:  Loss is 0.000000 and Validation Accuracty is 0.610000\n",
      "Epoch 61, CIFAR-10 Batch 1:  Loss is 0.000000 and Validation Accuracty is 0.604400\n",
      "Epoch 61, CIFAR-10 Batch 2:  Loss is 0.000000 and Validation Accuracty is 0.610600\n",
      "Epoch 61, CIFAR-10 Batch 3:  Loss is 0.000000 and Validation Accuracty is 0.613600\n",
      "Epoch 61, CIFAR-10 Batch 4:  Loss is 26.975489 and Validation Accuracty is 0.608200\n",
      "Epoch 61, CIFAR-10 Batch 5:  Loss is 0.000000 and Validation Accuracty is 0.608600\n",
      "Epoch 62, CIFAR-10 Batch 1:  Loss is 0.000000 and Validation Accuracty is 0.604200\n",
      "Epoch 62, CIFAR-10 Batch 2:  Loss is 13.345716 and Validation Accuracty is 0.601400\n",
      "Epoch 62, CIFAR-10 Batch 3:  Loss is 0.000000 and Validation Accuracty is 0.600200\n",
      "Epoch 62, CIFAR-10 Batch 4:  Loss is 0.000000 and Validation Accuracty is 0.608600\n",
      "Epoch 62, CIFAR-10 Batch 5:  Loss is 0.000000 and Validation Accuracty is 0.603000\n",
      "Epoch 63, CIFAR-10 Batch 1:  Loss is 0.000000 and Validation Accuracty is 0.607800\n",
      "Epoch 63, CIFAR-10 Batch 2:  Loss is 0.000000 and Validation Accuracty is 0.599800\n",
      "Epoch 63, CIFAR-10 Batch 3:  Loss is 0.000000 and Validation Accuracty is 0.608400\n",
      "Epoch 63, CIFAR-10 Batch 4:  Loss is 0.000000 and Validation Accuracty is 0.591800\n",
      "Epoch 63, CIFAR-10 Batch 5:  Loss is 0.000000 and Validation Accuracty is 0.597800\n",
      "Epoch 64, CIFAR-10 Batch 1:  Loss is 0.000000 and Validation Accuracty is 0.607000\n",
      "Epoch 64, CIFAR-10 Batch 2:  Loss is 0.000000 and Validation Accuracty is 0.611200\n",
      "Epoch 64, CIFAR-10 Batch 3:  Loss is 0.000000 and Validation Accuracty is 0.608400\n",
      "Epoch 64, CIFAR-10 Batch 4:  Loss is 0.000000 and Validation Accuracty is 0.606600\n",
      "Epoch 64, CIFAR-10 Batch 5:  Loss is 0.000000 and Validation Accuracty is 0.612000\n",
      "Epoch 65, CIFAR-10 Batch 1:  Loss is 0.000000 and Validation Accuracty is 0.609800\n",
      "Epoch 65, CIFAR-10 Batch 2:  Loss is 0.000000 and Validation Accuracty is 0.604800\n",
      "Epoch 65, CIFAR-10 Batch 3:  Loss is 0.000000 and Validation Accuracty is 0.604600\n",
      "Epoch 65, CIFAR-10 Batch 4:  Loss is 0.000000 and Validation Accuracty is 0.604400\n",
      "Epoch 65, CIFAR-10 Batch 5:  Loss is 0.000000 and Validation Accuracty is 0.610800\n",
      "Epoch 66, CIFAR-10 Batch 1:  Loss is 0.000000 and Validation Accuracty is 0.601600\n",
      "Epoch 66, CIFAR-10 Batch 2:  Loss is 0.000000 and Validation Accuracty is 0.609400\n",
      "Epoch 66, CIFAR-10 Batch 3:  Loss is 0.000000 and Validation Accuracty is 0.616800\n",
      "Epoch 66, CIFAR-10 Batch 4:  Loss is 0.000000 and Validation Accuracty is 0.608200\n",
      "Epoch 66, CIFAR-10 Batch 5:  Loss is 0.000000 and Validation Accuracty is 0.599000\n",
      "Epoch 67, CIFAR-10 Batch 1:  Loss is 0.000000 and Validation Accuracty is 0.602400\n",
      "Epoch 67, CIFAR-10 Batch 2:  Loss is 0.000000 and Validation Accuracty is 0.604600\n",
      "Epoch 67, CIFAR-10 Batch 3:  Loss is 0.000000 and Validation Accuracty is 0.608800\n",
      "Epoch 67, CIFAR-10 Batch 4:  Loss is 0.000000 and Validation Accuracty is 0.611200\n",
      "Epoch 67, CIFAR-10 Batch 5:  Loss is 0.000000 and Validation Accuracty is 0.605600\n",
      "Epoch 68, CIFAR-10 Batch 1:  Loss is 0.000000 and Validation Accuracty is 0.614800\n",
      "Epoch 68, CIFAR-10 Batch 2:  Loss is 0.000000 and Validation Accuracty is 0.598200\n",
      "Epoch 68, CIFAR-10 Batch 3:  Loss is 0.000000 and Validation Accuracty is 0.613400\n",
      "Epoch 68, CIFAR-10 Batch 4:  Loss is 0.000000 and Validation Accuracty is 0.614400\n",
      "Epoch 68, CIFAR-10 Batch 5:  Loss is 0.000000 and Validation Accuracty is 0.613000\n",
      "Epoch 69, CIFAR-10 Batch 1:  Loss is 0.000000 and Validation Accuracty is 0.603000\n",
      "Epoch 69, CIFAR-10 Batch 2:  Loss is 0.000000 and Validation Accuracty is 0.602600\n",
      "Epoch 69, CIFAR-10 Batch 3:  Loss is 0.000000 and Validation Accuracty is 0.605600\n",
      "Epoch 69, CIFAR-10 Batch 4:  Loss is 0.000000 and Validation Accuracty is 0.605400\n",
      "Epoch 69, CIFAR-10 Batch 5:  Loss is 0.000000 and Validation Accuracty is 0.593800\n",
      "Epoch 70, CIFAR-10 Batch 1:  Loss is 0.000000 and Validation Accuracty is 0.606400\n",
      "Epoch 70, CIFAR-10 Batch 2:  Loss is 0.000000 and Validation Accuracty is 0.618400\n",
      "Epoch 70, CIFAR-10 Batch 3:  Loss is 0.000000 and Validation Accuracty is 0.613800\n",
      "Epoch 70, CIFAR-10 Batch 4:  Loss is 0.000000 and Validation Accuracty is 0.612000\n",
      "Epoch 70, CIFAR-10 Batch 5:  Loss is 0.000000 and Validation Accuracty is 0.607200\n",
      "Epoch 71, CIFAR-10 Batch 1:  Loss is 0.000000 and Validation Accuracty is 0.602000\n",
      "Epoch 71, CIFAR-10 Batch 2:  Loss is 0.000000 and Validation Accuracty is 0.599000\n",
      "Epoch 71, CIFAR-10 Batch 3:  Loss is 0.000000 and Validation Accuracty is 0.596000\n",
      "Epoch 71, CIFAR-10 Batch 4:  Loss is 0.000000 and Validation Accuracty is 0.606600\n",
      "Epoch 71, CIFAR-10 Batch 5:  Loss is 0.000000 and Validation Accuracty is 0.601400\n",
      "Epoch 72, CIFAR-10 Batch 1:  Loss is 0.000000 and Validation Accuracty is 0.613200\n",
      "Epoch 72, CIFAR-10 Batch 2:  Loss is 0.000000 and Validation Accuracty is 0.613600\n",
      "Epoch 72, CIFAR-10 Batch 3:  Loss is 0.000000 and Validation Accuracty is 0.616000\n",
      "Epoch 72, CIFAR-10 Batch 4:  Loss is 0.000000 and Validation Accuracty is 0.608400\n",
      "Epoch 72, CIFAR-10 Batch 5:  Loss is 0.000000 and Validation Accuracty is 0.613200\n",
      "Epoch 73, CIFAR-10 Batch 1:  Loss is 0.000000 and Validation Accuracty is 0.612400\n",
      "Epoch 73, CIFAR-10 Batch 2:  Loss is 0.000000 and Validation Accuracty is 0.615400\n",
      "Epoch 73, CIFAR-10 Batch 3:  Loss is 0.000000 and Validation Accuracty is 0.614000\n",
      "Epoch 73, CIFAR-10 Batch 4:  Loss is 0.000000 and Validation Accuracty is 0.612200\n",
      "Epoch 73, CIFAR-10 Batch 5:  Loss is 0.000000 and Validation Accuracty is 0.610200\n",
      "Epoch 74, CIFAR-10 Batch 1:  Loss is 0.000000 and Validation Accuracty is 0.609200\n",
      "Epoch 74, CIFAR-10 Batch 2:  Loss is 0.000000 and Validation Accuracty is 0.610400\n",
      "Epoch 74, CIFAR-10 Batch 3:  Loss is 0.000000 and Validation Accuracty is 0.607600\n",
      "Epoch 74, CIFAR-10 Batch 4:  Loss is 0.000000 and Validation Accuracty is 0.610400\n",
      "Epoch 74, CIFAR-10 Batch 5:  Loss is 0.000000 and Validation Accuracty is 0.609800\n",
      "Epoch 75, CIFAR-10 Batch 1:  Loss is 0.000000 and Validation Accuracty is 0.614400\n",
      "Epoch 75, CIFAR-10 Batch 2:  Loss is 0.000000 and Validation Accuracty is 0.612600\n",
      "Epoch 75, CIFAR-10 Batch 3:  Loss is 0.000000 and Validation Accuracty is 0.614800\n",
      "Epoch 75, CIFAR-10 Batch 4:  Loss is 0.000000 and Validation Accuracty is 0.615400\n",
      "Epoch 75, CIFAR-10 Batch 5:  Loss is 0.000000 and Validation Accuracty is 0.602600\n",
      "Epoch 76, CIFAR-10 Batch 1:  Loss is 0.000000 and Validation Accuracty is 0.610600\n",
      "Epoch 76, CIFAR-10 Batch 2:  Loss is 0.000000 and Validation Accuracty is 0.610600\n",
      "Epoch 76, CIFAR-10 Batch 3:  Loss is 0.000000 and Validation Accuracty is 0.611600\n",
      "Epoch 76, CIFAR-10 Batch 4:  Loss is 0.000000 and Validation Accuracty is 0.614200\n",
      "Epoch 76, CIFAR-10 Batch 5:  Loss is 0.000000 and Validation Accuracty is 0.614000\n",
      "Epoch 77, CIFAR-10 Batch 1:  Loss is 0.000000 and Validation Accuracty is 0.613800\n",
      "Epoch 77, CIFAR-10 Batch 2:  Loss is 0.000000 and Validation Accuracty is 0.616800\n",
      "Epoch 77, CIFAR-10 Batch 3:  Loss is 0.000000 and Validation Accuracty is 0.614400\n",
      "Epoch 77, CIFAR-10 Batch 4:  Loss is 0.000000 and Validation Accuracty is 0.609400\n",
      "Epoch 77, CIFAR-10 Batch 5:  Loss is 0.000000 and Validation Accuracty is 0.617600\n",
      "Epoch 78, CIFAR-10 Batch 1:  Loss is 0.000000 and Validation Accuracty is 0.612800\n",
      "Epoch 78, CIFAR-10 Batch 2:  Loss is 0.000000 and Validation Accuracty is 0.601200\n",
      "Epoch 78, CIFAR-10 Batch 3:  Loss is 0.000000 and Validation Accuracty is 0.608400\n",
      "Epoch 78, CIFAR-10 Batch 4:  Loss is 0.000000 and Validation Accuracty is 0.618200\n",
      "Epoch 78, CIFAR-10 Batch 5:  Loss is 0.000000 and Validation Accuracty is 0.621000\n",
      "Epoch 79, CIFAR-10 Batch 1:  Loss is 0.000000 and Validation Accuracty is 0.621800\n",
      "Epoch 79, CIFAR-10 Batch 2:  Loss is 0.000000 and Validation Accuracty is 0.625000\n",
      "Epoch 79, CIFAR-10 Batch 3:  Loss is 0.000000 and Validation Accuracty is 0.615400\n",
      "Epoch 79, CIFAR-10 Batch 4:  Loss is 0.000000 and Validation Accuracty is 0.612000\n",
      "Epoch 79, CIFAR-10 Batch 5:  Loss is 0.000000 and Validation Accuracty is 0.606600\n",
      "Epoch 80, CIFAR-10 Batch 1:  Loss is 0.000000 and Validation Accuracty is 0.612200\n",
      "Epoch 80, CIFAR-10 Batch 2:  Loss is 0.000000 and Validation Accuracty is 0.617400\n",
      "Epoch 80, CIFAR-10 Batch 3:  Loss is 0.000000 and Validation Accuracty is 0.616000\n",
      "Epoch 80, CIFAR-10 Batch 4:  Loss is 0.000000 and Validation Accuracty is 0.611800\n",
      "Epoch 80, CIFAR-10 Batch 5:  Loss is 0.000000 and Validation Accuracty is 0.608800\n"
     ]
    }
   ],
   "source": [
    "\"\"\"\n",
    "DON'T MODIFY ANYTHING IN THIS CELL\n",
    "\"\"\"\n",
    "save_model_path = './image_classification'\n",
    "\n",
    "print('Training...')\n",
    "with tf.Session() as sess:\n",
    "    # Initializing the variables\n",
    "    sess.run(tf.global_variables_initializer())\n",
    "    \n",
    "    # Training cycle\n",
    "    for epoch in range(epochs):\n",
    "        # Loop over all batches\n",
    "        n_batches = 5\n",
    "        for batch_i in range(1, n_batches + 1):\n",
    "            for batch_features, batch_labels in helper.load_preprocess_training_batch(batch_i, batch_size):\n",
    "                train_neural_network(sess, optimizer, keep_probability, batch_features, batch_labels)\n",
    "            print('Epoch {:>2}, CIFAR-10 Batch {}:  '.format(epoch + 1, batch_i), end='')\n",
    "            print_stats(sess, batch_features, batch_labels, cost, accuracy)\n",
    "            \n",
    "    # Save Model\n",
    "    saver = tf.train.Saver()\n",
    "    save_path = saver.save(sess, save_model_path)"
   ]
  },
  {
   "cell_type": "markdown",
   "metadata": {},
   "source": [
    "# Checkpoint\n",
    "The model has been saved to disk.\n",
    "## Test Model\n",
    "Test your model against the test dataset.  This will be your final accuracy. You should have an accuracy greater than 50%. If you don't, keep tweaking the model architecture and parameters."
   ]
  },
  {
   "cell_type": "code",
   "execution_count": 127,
   "metadata": {
    "collapsed": false
   },
   "outputs": [
    {
     "name": "stdout",
     "output_type": "stream",
     "text": [
      "Testing Accuracy: 0.602734375\n",
      "\n"
     ]
    },
    {
     "data": {
      "image/png": "[encoded data removed]",
      "text/plain": [
       "<matplotlib.figure.Figure at 0x11e26ea90>"
      ]
     },
     "metadata": {
      "image/png": {
       "height": 319,
       "width": 349
      }
     },
     "output_type": "display_data"
    }
   ],
   "source": [
    "\"\"\"\n",
    "DON'T MODIFY ANYTHING IN THIS CELL\n",
    "\"\"\"\n",
    "%matplotlib inline\n",
    "%config InlineBackend.figure_format = 'retina'\n",
    "\n",
    "import tensorflow as tf\n",
    "import pickle\n",
    "import helper\n",
    "import random\n",
    "\n",
    "# Set batch size if not already set\n",
    "try:\n",
    "    if batch_size:\n",
    "        pass\n",
    "except NameError:\n",
    "    batch_size = 64\n",
    "\n",
    "save_model_path = './image_classification'\n",
    "n_samples = 4\n",
    "top_n_predictions = 3\n",
    "\n",
    "def test_model():\n",
    "    \"\"\"\n",
    "    Test the saved model against the test dataset\n",
    "    \"\"\"\n",
    "\n",
    "    test_features, test_labels = pickle.load(open('preprocess_training.p', mode='rb'))\n",
    "    loaded_graph = tf.Graph()\n",
    "\n",
    "    with tf.Session(graph=loaded_graph) as sess:\n",
    "        # Load model\n",
    "        loader = tf.train.import_meta_graph(save_model_path + '.meta')\n",
    "        loader.restore(sess, save_model_path)\n",
    "\n",
    "        # Get Tensors from loaded model\n",
    "        loaded_x = loaded_graph.get_tensor_by_name('x:0')\n",
    "        loaded_y = loaded_graph.get_tensor_by_name('y:0')\n",
    "        loaded_keep_prob = loaded_graph.get_tensor_by_name('keep_prob:0')\n",
    "        loaded_logits = loaded_graph.get_tensor_by_name('logits:0')\n",
    "        loaded_acc = loaded_graph.get_tensor_by_name('accuracy:0')\n",
    "        \n",
    "        # Get accuracy in batches for memory limitations\n",
    "        test_batch_acc_total = 0\n",
    "        test_batch_count = 0\n",
    "        \n",
    "        for train_feature_batch, train_label_batch in helper.batch_features_labels(test_features, test_labels, batch_size):\n",
    "            test_batch_acc_total += sess.run(\n",
    "                loaded_acc,\n",
    "                feed_dict={loaded_x: train_feature_batch, loaded_y: train_label_batch, loaded_keep_prob: 1.0})\n",
    "            test_batch_count += 1\n",
    "\n",
    "        print('Testing Accuracy: {}\\n'.format(test_batch_acc_total/test_batch_count))\n",
    "\n",
    "        # Print Random Samples\n",
    "        random_test_features, random_test_labels = tuple(zip(*random.sample(list(zip(test_features, test_labels)), n_samples)))\n",
    "        random_test_predictions = sess.run(\n",
    "            tf.nn.top_k(tf.nn.softmax(loaded_logits), top_n_predictions),\n",
    "            feed_dict={loaded_x: random_test_features, loaded_y: random_test_labels, loaded_keep_prob: 1.0})\n",
    "        helper.display_image_predictions(random_test_features, random_test_labels, random_test_predictions)\n",
    "\n",
    "\n",
    "test_model()"
   ]
  },
  {
   "cell_type": "markdown",
   "metadata": {},
   "source": [
    "## Why 50-80% Accuracy?\n",
    "You might be wondering why you can't get an accuracy any higher. First things first, 50% isn't bad for a simple CNN.  Pure guessing would get you 10% accuracy. That's because there are many more techniques that can be applied to your model and we recemmond that once you are done with this project, you explore!\n",
    "\n",
    "## Submitting This Project\n",
    "When submitting this project, make sure to run all the cells before saving the notebook.  Save the notebook file as \"image_classification.ipynb\" and save it as a HTML file under \"File\" -> \"Download as\".  Include the \"helper.py\" and \"problem_unittests.py\" files in your submission."
   ]
  }
 ],
 "metadata": {
  "anaconda-cloud": {},
  "kernelspec": {
   "display_name": "Python [conda env:py3k]",
   "language": "python",
   "name": "conda-env-py3k-py"
  },
  "language_info": {
   "codemirror_mode": {
    "name": "ipython",
    "version": 3
   },
   "file_extension": ".py",
   "mimetype": "text/x-python",
   "name": "python",
   "nbconvert_exporter": "python",
   "pygments_lexer": "ipython3",
   "version": "3.6.0"
  }
 },
 "nbformat": 4,
 "nbformat_minor": 0
}
